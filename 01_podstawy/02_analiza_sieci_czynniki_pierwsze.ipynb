{
  "nbformat": 4,
  "nbformat_minor": 0,
  "metadata": {
    "colab": {
      "provenance": [],
      "authorship_tag": "ABX9TyPVCFKbXkfx4embTIqOesbE",
      "include_colab_link": true
    },
    "kernelspec": {
      "name": "python3",
      "display_name": "Python 3"
    },
    "language_info": {
      "name": "python"
    }
  },
  "cells": [
    {
      "cell_type": "markdown",
      "metadata": {
        "id": "view-in-github",
        "colab_type": "text"
      },
      "source": [
        "<a href=\"https://colab.research.google.com/github/AleksandraJuras2000/Kurs_Udemi_nn/blob/main/01_podstawy/02_analiza_sieci_czynniki_pierwsze.ipynb\" target=\"_parent\"><img src=\"https://colab.research.google.com/assets/colab-badge.svg\" alt=\"Open In Colab\"/></a>"
      ]
    },
    {
      "cell_type": "code",
      "execution_count": null,
      "metadata": {
        "id": "YvOzkEK77AHi"
      },
      "outputs": [],
      "source": [
        "import numpy as np\n",
        "import pandas as pd"
      ]
    },
    {
      "cell_type": "code",
      "source": [
        "np.random.seed(42)"
      ],
      "metadata": {
        "id": "OnSY2vyV8aGx"
      },
      "execution_count": null,
      "outputs": []
    },
    {
      "cell_type": "code",
      "source": [
        "X=np.array([1.4, 0.7])    # np. długość, waga\n",
        "y_true=np.array([1.8])     # i  mamy tu cenę produktu"
      ],
      "metadata": {
        "id": "Kpvu7ItU8ezE"
      },
      "execution_count": null,
      "outputs": []
    },
    {
      "cell_type": "code",
      "source": [
        "def initialize_parameters(n_x, n_h, n_y):\n",
        "    W1 = np.random.rand(n_h, n_x)\n",
        "    W2 = np.random.rand(n_h, n_y)\n",
        "    return W1, W2\n",
        "# ta funkcja zwróci nam dwie macierze wag\n",
        "\n",
        "\n",
        "\n",
        "def forward_propagation(X, W1, W2):\n",
        "    H1 = np.dot(X, W1)  #przeliczenie warstwy ukrytej\n",
        "    y_pred = np.dot(H1, W2)  # przeliczenie warstwy wyjściowej\n",
        "    return H1, y_pred\n",
        "# tutaj karmimy nasza siec bo mnozy wszystkie macierze (H1 to warstwa ukryta)\n",
        "\n",
        "\n",
        "\n",
        "def calculate_error(y_pred, y_true):\n",
        "    return y_pred - y_true\n",
        "\n",
        "\n",
        "\n",
        "def predict(X, W1, W2):\n",
        "    _, y_pred = forward_propagation(X, W1, W2)\n",
        "    return y_pred[0]\n",
        "\n",
        "\n",
        "\n",
        "def backpropagation(X, W1, W2, learning_rate, iters=1000, precision=0.0000001):\n",
        "\n",
        "    H1, y_pred = forward_propagation(X, W1, W2)\n",
        "    train_loss = []\n",
        "\n",
        "    for i in range(iters):\n",
        "        error = calculate_error(y_pred, y_true)\n",
        "        W2 = W2 - learning_rate * error * H1.T\n",
        "        W1 = W1 - learning_rate * error * np.dot(X.T, W2.T)\n",
        "\n",
        "        y_pred = predict(X, W1, W2)\n",
        "        print(f'Iter #{i}: y_pred {y_pred}: loss: {abs(calculate_error(y_pred, y_true[0]))}')\n",
        "        train_loss.append(abs(calculate_error(y_pred, y_true[0])))\n",
        "\n",
        "        if abs(error) < precision:\n",
        "            break\n",
        "\n",
        "    return W1, W2, train_loss"
      ],
      "metadata": {
        "id": "2lRmHaOF8nMo"
      },
      "execution_count": null,
      "outputs": []
    },
    {
      "cell_type": "code",
      "source": [
        "def build_model():\n",
        "\n",
        "    W1, W2 = initialize_parameters(2, 2, 1)   # tworzymy losowe wagi\n",
        "\n",
        "    W1, W2, train_loss = backpropagation(X, W1, W2, 0.01)  # uczymy model\n",
        "\n",
        "    model = {'W1': W1, 'W2': W2, 'train_loss': train_loss} # zapisujemy wagi\n",
        "\n",
        "    return model"
      ],
      "metadata": {
        "id": "9MttuLZKEdeL"
      },
      "execution_count": null,
      "outputs": []
    },
    {
      "cell_type": "code",
      "source": [
        "model = build_model()"
      ],
      "metadata": {
        "colab": {
          "base_uri": "https://localhost:8080/"
        },
        "id": "ZWsrd58jE2kv",
        "outputId": "c9a80031-a790-4467-aa76-e99dadf84586"
      },
      "execution_count": null,
      "outputs": [
        {
          "output_type": "stream",
          "name": "stdout",
          "text": [
            "Iter #0: y_pred 0.5214837089619264: loss: 1.2785162910380736\n",
            "Iter #1: y_pred 0.5565881929848598: loss: 1.24341180701514\n",
            "Iter #2: y_pred 0.592164122621301: loss: 1.207835877378699\n",
            "Iter #3: y_pred 0.6281196101956574: loss: 1.1718803898043426\n",
            "Iter #4: y_pred 0.6643596649907321: loss: 1.1356403350092679\n",
            "Iter #5: y_pred 0.7007873699431533: loss: 1.0992126300568468\n",
            "Iter #6: y_pred 0.7373050404335387: loss: 1.0626949595664614\n",
            "Iter #7: y_pred 0.7738153446041978: loss: 1.0261846553958023\n",
            "Iter #8: y_pred 0.8102223662790249: loss: 0.9897776337209752\n",
            "Iter #9: y_pred 0.8464325937440109: loss: 0.9535674062559891\n",
            "Iter #10: y_pred 0.8823558202546593: loss: 0.9176441797453407\n",
            "Iter #11: y_pred 0.9179059450388367: loss: 0.8820940549611633\n",
            "Iter #12: y_pred 0.9530016666267126: loss: 0.8469983333732874\n",
            "Iter #13: y_pred 0.9875670634336238: loss: 0.8124329365663763\n",
            "Iter #14: y_pred 1.0215320595274657: loss: 0.7784679404725343\n",
            "Iter #15: y_pred 1.0548327763256566: loss: 0.7451672236743434\n",
            "Iter #16: y_pred 1.0874117735033637: loss: 0.7125882264966363\n",
            "Iter #17: y_pred 1.1192181845915121: loss: 0.6807818154084879\n",
            "Iter #18: y_pred 1.1502077545591924: loss: 0.6497922454408076\n",
            "Iter #19: y_pred 1.1803427880907957: loss: 0.6196572119092043\n",
            "Iter #20: y_pred 1.2095920182832152: loss: 0.5904079817167849\n",
            "Iter #21: y_pred 1.237930406119014: loss: 0.5620695938809861\n",
            "Iter #22: y_pred 1.2653388813471405: loss: 0.5346611186528596\n",
            "Iter #23: y_pred 1.2918040353630182: loss: 0.5081959646369818\n",
            "Iter #24: y_pred 1.3173177763704227: loss: 0.48268222362957736\n",
            "Iter #25: y_pred 1.3418769565776563: loss: 0.4581230434223438\n",
            "Iter #26: y_pred 1.3654829804795678: loss: 0.4345170195204322\n",
            "Iter #27: y_pred 1.3881414024528274: loss: 0.4118585975471727\n",
            "Iter #28: y_pred 1.409861520988581: loss: 0.39013847901141907\n",
            "Iter #29: y_pred 1.4306559759436976: loss: 0.3693440240563024\n",
            "Iter #30: y_pred 1.4505403542429889: loss: 0.34945964575701116\n",
            "Iter #31: y_pred 1.4695328085380641: loss: 0.3304671914619359\n",
            "Iter #32: y_pred 1.4876536924459387: loss: 0.31234630755406134\n",
            "Iter #33: y_pred 1.5049252151686443: loss: 0.29507478483135574\n",
            "Iter #34: y_pred 1.5213711175453621: loss: 0.2786288824546379\n",
            "Iter #35: y_pred 1.5370163709179123: loss: 0.2629836290820877\n",
            "Iter #36: y_pred 1.5518868996019375: loss: 0.24811310039806256\n",
            "Iter #37: y_pred 1.5660093272497853: loss: 0.2339906727502148\n",
            "Iter #38: y_pred 1.5794107469644498: loss: 0.22058925303555021\n",
            "Iter #39: y_pred 1.5921185146726295: loss: 0.2078814853273705\n",
            "Iter #40: y_pred 1.6041600649833607: loss: 0.19583993501663932\n",
            "Iter #41: y_pred 1.6155627485403175: loss: 0.1844372514596826\n",
            "Iter #42: y_pred 1.6263536897137814: loss: 0.17364631028621869\n",
            "Iter #43: y_pred 1.6365596633655128: loss: 0.1634403366344872\n",
            "Iter #44: y_pred 1.6462069893493099: loss: 0.15379301065069018\n",
            "Iter #45: y_pred 1.6553214433754402: loss: 0.14467855662455986\n",
            "Iter #46: y_pred 1.6639281828621475: loss: 0.13607181713785255\n",
            "Iter #47: y_pred 1.6720516864165462: loss: 0.12794831358345382\n",
            "Iter #48: y_pred 1.6797157056253376: loss: 0.12028429437466248\n",
            "Iter #49: y_pred 1.68694322788852: loss: 0.11305677211148013\n",
            "Iter #50: y_pred 1.6937564490927466: loss: 0.10624355090725346\n",
            "Iter #51: y_pred 1.7001767549919269: loss: 0.09982324500807316\n",
            "Iter #52: y_pred 1.7062247102382848: loss: 0.09377528976171523\n",
            "Iter #53: y_pred 1.7119200540851192: loss: 0.08807994591488089\n",
            "Iter #54: y_pred 1.7172817018610294: loss: 0.08271829813897069\n",
            "Iter #55: y_pred 1.7223277513929707: loss: 0.07767224860702937\n",
            "Iter #56: y_pred 1.7270754936309398: loss: 0.07292450636906023\n",
            "Iter #57: y_pred 1.7315414267995788: loss: 0.06845857320042126\n",
            "Iter #58: y_pred 1.7357412734708328: loss: 0.0642587265291672\n",
            "Iter #59: y_pred 1.7396900000165978: loss: 0.06030999998340225\n",
            "Iter #60: y_pred 1.7434018379608147: loss: 0.05659816203918533\n",
            "Iter #61: y_pred 1.7468903068065278: loss: 0.05310969319347225\n",
            "Iter #62: y_pred 1.7501682379650607: loss: 0.04983176203493933\n",
            "Iter #63: y_pred 1.7532477994617146: loss: 0.04675220053828544\n",
            "Iter #64: y_pred 1.7561405211353955: loss: 0.043859478864604506\n",
            "Iter #65: y_pred 1.7588573200885214: loss: 0.041142679911478686\n",
            "Iter #66: y_pred 1.7614085261786303: loss: 0.03859147382136974\n",
            "Iter #67: y_pred 1.7638039073745846: loss: 0.036196092625415455\n",
            "Iter #68: y_pred 1.7660526948283373: loss: 0.03394730517166278\n",
            "Iter #69: y_pred 1.7681636075382015: loss: 0.03183639246179859\n",
            "Iter #70: y_pred 1.770144876501635: loss: 0.029855123498365055\n",
            "Iter #71: y_pred 1.772004268275021: loss: 0.027995731724979045\n",
            "Iter #72: y_pred 1.7737491078749787: loss: 0.026250892125021297\n",
            "Iter #73: y_pred 1.775386300970637: loss: 0.024613699029363056\n",
            "Iter #74: y_pred 1.776922355329245: loss: 0.023077644670755015\n",
            "Iter #75: y_pred 1.7783634014886647: loss: 0.02163659851133537\n",
            "Iter #76: y_pred 1.779715212639911: loss: 0.020284787360089096\n",
            "Iter #77: y_pred 1.7809832237111043: loss: 0.019016776288895754\n",
            "Iter #78: y_pred 1.7821725496511631: loss: 0.017827450348836926\n",
            "Iter #79: y_pred 1.7832880029174327: loss: 0.01671199708256732\n",
            "Iter #80: y_pred 1.7843341101763248: loss: 0.015665889823675228\n",
            "Iter #81: y_pred 1.7853151282300854: loss: 0.01468487176991462\n",
            "Iter #82: y_pred 1.7862350591860923: loss: 0.013764940813907778\n",
            "Iter #83: y_pred 1.7870976648877284: loss: 0.012902335112271679\n",
            "Iter #84: y_pred 1.787906480627933: loss: 0.01209351937206704\n",
            "Iter #85: y_pred 1.7886648281681277: loss: 0.011335171831872382\n",
            "Iter #86: y_pred 1.7893758280863654: loss: 0.010624171913634628\n",
            "Iter #87: y_pred 1.7900424114793474: loss: 0.00995758852065265\n",
            "Iter #88: y_pred 1.7906673310434469: loss: 0.009332668956553158\n",
            "Iter #89: y_pred 1.7912531715600934: loss: 0.008746828439906595\n",
            "Iter #90: y_pred 1.7918023598109047: loss: 0.008197640189095301\n",
            "Iter #91: y_pred 1.7923171739477386: loss: 0.007682826052261449\n",
            "Iter #92: y_pred 1.7927997523425523: loss: 0.007200247657447756\n",
            "Iter #93: y_pred 1.793252101941468: loss: 0.0067478980585320425\n",
            "Iter #94: y_pred 1.7936761061469157: loss: 0.006323893853084295\n",
            "Iter #95: y_pred 1.7940735322510781: loss: 0.005926467748921915\n",
            "Iter #96: y_pred 1.7944460384431773: loss: 0.005553961556822751\n",
            "Iter #97: y_pred 1.7947951804123976: loss: 0.005204819587602438\n",
            "Iter #98: y_pred 1.7951224175674703: loss: 0.004877582432529781\n",
            "Iter #99: y_pred 1.7954291188931464: loss: 0.004570881106853664\n",
            "Iter #100: y_pred 1.7957165684629868: loss: 0.004283431537013271\n",
            "Iter #101: y_pred 1.7959859706270724: loss: 0.004014029372927608\n",
            "Iter #102: y_pred 1.7962384548924437: loss: 0.00376154510755633\n",
            "Iter #103: y_pred 1.7964750805132692: loss: 0.0035249194867308375\n",
            "Iter #104: y_pred 1.7966968408069524: loss: 0.003303159193047689\n",
            "Iter #105: y_pred 1.796904667211626: loss: 0.003095332788374039\n",
            "Iter #106: y_pred 1.7970994330997085: loss: 0.0029005669002915013\n",
            "Iter #107: y_pred 1.7972819573614935: loss: 0.0027180426385065015\n",
            "Iter #108: y_pred 1.7974530077719981: loss: 0.002546992228001921\n",
            "Iter #109: y_pred 1.797613304153653: loss: 0.0023866958463469867\n",
            "Iter #110: y_pred 1.7977635213467154: loss: 0.0022364786532846903\n",
            "Iter #111: y_pred 1.79790429199869: loss: 0.0020957080013099816\n",
            "Iter #112: y_pred 1.7980362091834017: loss: 0.0019637908165983653\n",
            "Iter #113: y_pred 1.7981598288598124: loss: 0.0018401711401876408\n",
            "Iter #114: y_pred 1.798275672180095: loss: 0.0017243278199050582\n",
            "Iter #115: y_pred 1.7983842276559567: loss: 0.0016157723440433092\n",
            "Iter #116: y_pred 1.7984859531917037: loss: 0.0015140468082963654\n",
            "Iter #117: y_pred 1.7985812779920476: loss: 0.0014187220079524554\n",
            "Iter #118: y_pred 1.7986706043522: loss: 0.0013293956477999913\n",
            "Iter #119: y_pred 1.79875430933738: loss: 0.001245690662620147\n",
            "Iter #120: y_pred 1.7988327463584213: loss: 0.0011672536415787693\n",
            "Iter #121: y_pred 1.798906246649807: loss: 0.0010937533501931274\n",
            "Iter #122: y_pred 1.7989751206560647: loss: 0.0010248793439353587\n",
            "Iter #123: y_pred 1.7990396593321192: loss: 0.0009603406678808657\n",
            "Iter #124: y_pred 1.799100135362865: loss: 0.0008998646371349839\n",
            "Iter #125: y_pred 1.7991568043069117: loss: 0.0008431956930883278\n",
            "Iter #126: y_pred 1.7992099056691513: loss: 0.0007900943308487562\n",
            "Iter #127: y_pred 1.79925966390653: loss: 0.0007403360934701286\n",
            "Iter #128: y_pred 1.7993062893711387: loss: 0.0006937106288613659\n",
            "Iter #129: y_pred 1.7993499791944834: loss: 0.0006500208055166823\n",
            "Iter #130: y_pred 1.7993909181165737: loss: 0.0006090818834263434\n",
            "Iter #131: y_pred 1.7994292792632396: loss: 0.000570720736760455\n",
            "Iter #132: y_pred 1.7994652248748835: loss: 0.0005347751251165711\n",
            "Iter #133: y_pred 1.799498906989676: loss: 0.0005010930103239719\n",
            "Iter #134: y_pred 1.7995304680840238: loss: 0.0004695319159762068\n",
            "Iter #135: y_pred 1.7995600416729625: loss: 0.00043995832703758175\n",
            "Iter #136: y_pred 1.7995877528729678: loss: 0.0004122471270322503\n",
            "Iter #137: y_pred 1.7996137189295207: loss: 0.0003862810704793329\n",
            "Iter #138: y_pred 1.799638049711621: loss: 0.00036195028837915366\n",
            "Iter #139: y_pred 1.7996608481753142: loss: 0.00033915182468580163\n",
            "Iter #140: y_pred 1.7996822107981565: loss: 0.00031778920184355464\n",
            "Iter #141: y_pred 1.7997022279864379: loss: 0.00029777201356218086\n",
            "Iter #142: y_pred 1.7997209844568598: loss: 0.00027901554314024857\n",
            "Iter #143: y_pred 1.7997385595942639: loss: 0.00026144040573616856\n",
            "Iter #144: y_pred 1.7997550277869123: loss: 0.0002449722130877241\n",
            "Iter #145: y_pred 1.7997704587407204: loss: 0.00022954125927965308\n",
            "Iter #146: y_pred 1.799784917773756: loss: 0.0002150822262441121\n",
            "Iter #147: y_pred 1.7997984660922473: loss: 0.00020153390775279334\n",
            "Iter #148: y_pred 1.7998111610492524: loss: 0.00018883895074761625\n",
            "Iter #149: y_pred 1.7998230563870767: loss: 0.00017694361292330818\n",
            "Iter #150: y_pred 1.7998342024644585: loss: 0.0001657975355415786\n",
            "Iter #151: y_pred 1.7998446464694773: loss: 0.00015535353052276157\n",
            "Iter #152: y_pred 1.7998544326190782: loss: 0.00014556738092186272\n",
            "Iter #153: y_pred 1.7998636023460541: loss: 0.00013639765394590775\n",
            "Iter #154: y_pred 1.7998721944742722: loss: 0.0001278055257278865\n",
            "Iter #155: y_pred 1.7998802453828802: loss: 0.00011975461711988267\n",
            "Iter #156: y_pred 1.7998877891601888: loss: 0.00011221083981127755\n",
            "Iter #157: y_pred 1.799894857747872: loss: 0.00010514225212809869\n",
            "Iter #158: y_pred 1.799901481076101: loss: 9.851892389911576e-05\n",
            "Iter #159: y_pred 1.7999076871901736: loss: 9.231280982646695e-05\n",
            "Iter #160: y_pred 1.7999135023691808: loss: 8.649763081924888e-05\n",
            "Iter #161: y_pred 1.7999189512372022: loss: 8.104876279779738e-05\n",
            "Iter #162: y_pred 1.7999240568675088: loss: 7.594313249126294e-05\n",
            "Iter #163: y_pred 1.7999288408802072: loss: 7.115911979282963e-05\n",
            "Iter #164: y_pred 1.7999333235337382: loss: 6.667646626179469e-05\n",
            "Iter #165: y_pred 1.799937523810617: loss: 6.247618938304278e-05\n",
            "Iter #166: y_pred 1.799941459497778: loss: 5.854050222198204e-05\n",
            "Iter #167: y_pred 1.799945147261861: loss: 5.48527381389885e-05\n",
            "Iter #168: y_pred 1.7999486027197595: loss: 5.139728024050605e-05\n",
            "Iter #169: y_pred 1.7999518405047266: loss: 4.815949527348096e-05\n",
            "Iter #170: y_pred 1.799954874328321: loss: 4.512567167913595e-05\n",
            "Iter #171: y_pred 1.7999577170384526: loss: 4.2282961547401854e-05\n",
            "Iter #172: y_pred 1.799960380673772: loss: 3.961932622797981e-05\n",
            "Iter #173: y_pred 1.799962876514639: loss: 3.712348536111243e-05\n",
            "Iter #174: y_pred 1.7999652151308778: loss: 3.478486912222856e-05\n",
            "Iter #175: y_pred 1.7999674064265283: loss: 3.2593573471739745e-05\n",
            "Iter #176: y_pred 1.7999694596817801: loss: 3.0540318219918206e-05\n",
            "Iter #177: y_pred 1.7999713835922624: loss: 2.8616407737658278e-05\n",
            "Iter #178: y_pred 1.7999731863058632: loss: 2.6813694136818e-05\n",
            "Iter #179: y_pred 1.799974875457228: loss: 2.5124542772037017e-05\n",
            "Iter #180: y_pred 1.7999764582000874: loss: 2.3541799912596417e-05\n",
            "Iter #181: y_pred 1.7999779412375474: loss: 2.205876245264804e-05\n",
            "Iter #182: y_pred 1.7999793308504737: loss: 2.066914952636445e-05\n",
            "Iter #183: y_pred 1.7999806329240855: loss: 1.9367075914544785e-05\n",
            "Iter #184: y_pred 1.7999818529728797: loss: 1.8147027120329895e-05\n",
            "Iter #185: y_pred 1.799982996163979: loss: 1.7003836020990093e-05\n",
            "Iter #186: y_pred 1.7999840673390155: loss: 1.5932660984541158e-05\n",
            "Iter #187: y_pred 1.7999850710346306: loss: 1.4928965369476188e-05\n",
            "Iter #188: y_pred 1.7999860115016872: loss: 1.3988498312800246e-05\n",
            "Iter #189: y_pred 1.7999868927232727: loss: 1.3107276727319928e-05\n",
            "Iter #190: y_pred 1.7999877184315642: loss: 1.2281568435801304e-05\n",
            "Iter #191: y_pred 1.7999884921236347: loss: 1.1507876365390857e-05\n",
            "Iter #192: y_pred 1.7999892170762628: loss: 1.0782923737240324e-05\n",
            "Iter #193: y_pred 1.799989896359807: loss: 1.0103640192937746e-05\n",
            "Iter #194: y_pred 1.7999905328512134: loss: 9.467148786690416e-06\n",
            "Iter #195: y_pred 1.7999911292461945: loss: 8.870753805512166e-06\n",
            "Iter #196: y_pred 1.799991688070648: loss: 8.311929352133873e-06\n",
            "Iter #197: y_pred 1.7999922116913532: loss: 7.788308646894393e-06\n",
            "Iter #198: y_pred 1.7999927023259945: loss: 7.297674005535271e-06\n",
            "Iter #199: y_pred 1.7999931620525533: loss: 6.8379474467139545e-06\n",
            "Iter #200: y_pred 1.799993592818109: loss: 6.407181891043834e-06\n",
            "Iter #201: y_pred 1.7999939964470841: loss: 6.003552915911925e-06\n",
            "Iter #202: y_pred 1.799994374648971: loss: 5.625351028992753e-06\n",
            "Iter #203: y_pred 1.7999947290255727: loss: 5.270974427373787e-06\n",
            "Iter #204: y_pred 1.799995061077785: loss: 4.938922214980934e-06\n",
            "Iter #205: y_pred 1.7999953722119553: loss: 4.627788044775372e-06\n",
            "Iter #206: y_pred 1.7999956637458372: loss: 4.336254162851105e-06\n",
            "Iter #207: y_pred 1.7999959369141707: loss: 4.063085829342228e-06\n",
            "Iter #208: y_pred 1.799996192873913: loss: 3.8071260870520263e-06\n",
            "Iter #209: y_pred 1.7999964327091393: loss: 3.567290860706507e-06\n",
            "Iter #210: y_pred 1.7999966574356308: loss: 3.3425643692908125e-06\n",
            "Iter #211: y_pred 1.7999968680051792: loss: 3.131994820826378e-06\n",
            "Iter #212: y_pred 1.799997065309619: loss: 2.9346903811511282e-06\n",
            "Iter #213: y_pred 1.7999972501846002: loss: 2.7498153998273267e-06\n",
            "Iter #214: y_pred 1.799997423413132: loss: 2.5765868680860393e-06\n",
            "Iter #215: y_pred 1.7999975857288963: loss: 2.414271103701182e-06\n",
            "Iter #216: y_pred 1.7999977378193575: loss: 2.262180642587097e-06\n",
            "Iter #217: y_pred 1.7999978803286707: loss: 2.119671329348094e-06\n",
            "Iter #218: y_pred 1.7999980138604126: loss: 1.986139587462077e-06\n",
            "Iter #219: y_pred 1.799998138980137: loss: 1.8610198631030528e-06\n",
            "Iter #220: y_pred 1.7999982562177697: loss: 1.7437822303900674e-06\n",
            "Iter #221: y_pred 1.7999983660698533: loss: 1.6339301467382938e-06\n",
            "Iter #222: y_pred 1.7999984690016504: loss: 1.5309983496525348e-06\n",
            "Iter #223: y_pred 1.7999985654491133: loss: 1.4345508867474877e-06\n",
            "Iter #224: y_pred 1.7999986558207317: loss: 1.3441792683366316e-06\n",
            "Iter #225: y_pred 1.7999987404992615: loss: 1.2595007385929335e-06\n",
            "Iter #226: y_pred 1.7999988198433465: loss: 1.1801566535130092e-06\n",
            "Iter #227: y_pred 1.7999988941890377: loss: 1.1058109623540702e-06\n",
            "Iter #228: y_pred 1.7999989638512155: loss: 1.0361487845500506e-06\n",
            "Iter #229: y_pred 1.7999990291249244: loss: 9.70875075667621e-07\n",
            "Iter #230: y_pred 1.799999090286622: loss: 9.097133779611966e-07\n",
            "Iter #231: y_pred 1.7999991475953503: loss: 8.524046497537796e-07\n",
            "Iter #232: y_pred 1.7999992012938324: loss: 7.98706167648433e-07\n",
            "Iter #233: y_pred 1.7999992516095003: loss: 7.483904997940272e-07\n",
            "Iter #234: y_pred 1.79999929875546: loss: 7.012445399912082e-07\n",
            "Iter #235: y_pred 1.7999993429313914: loss: 6.570686086337929e-07\n",
            "Iter #236: y_pred 1.799999384324396: loss: 6.156756040542888e-07\n",
            "Iter #237: y_pred 1.7999994231097878: loss: 5.768902122671449e-07\n",
            "Iter #238: y_pred 1.7999994594518371: loss: 5.405481628972808e-07\n",
            "Iter #239: y_pred 1.799999493504466: loss: 5.064955339584287e-07\n",
            "Iter #240: y_pred 1.7999995254118994: loss: 4.7458810059630707e-07\n",
            "Iter #241: y_pred 1.7999995553092778: loss: 4.44690722245511e-07\n",
            "Iter #242: y_pred 1.799999583323227: loss: 4.1667677308510065e-07\n",
            "Iter #243: y_pred 1.7999996095723962: loss: 3.90427603802479e-07\n",
            "Iter #244: y_pred 1.7999996341679605: loss: 3.658320395505399e-07\n",
            "Iter #245: y_pred 1.799999657214091: loss: 3.427859089910612e-07\n",
            "Iter #246: y_pred 1.7999996788083963: loss: 3.2119160375820854e-07\n",
            "Iter #247: y_pred 1.7999996990423368: loss: 3.0095766323512407e-07\n",
            "Iter #248: y_pred 1.7999997180016103: loss: 2.819983897506262e-07\n",
            "Iter #249: y_pred 1.7999997357665167: loss: 2.642334833158344e-07\n",
            "Iter #250: y_pred 1.7999997524122966: loss: 2.4758770345023606e-07\n",
            "Iter #251: y_pred 1.7999997680094508: loss: 2.3199054921541062e-07\n",
            "Iter #252: y_pred 1.7999997826240395: loss: 2.1737596056503605e-07\n",
            "Iter #253: y_pred 1.7999997963179604: loss: 2.0368203967890963e-07\n",
            "Iter #254: y_pred 1.7999998091492126: loss: 1.9085078739600192e-07\n",
            "Iter #255: y_pred 1.799999821172141: loss: 1.7882785896539133e-07\n",
            "Iter #256: y_pred 1.7999998324376674: loss: 1.675623326757858e-07\n",
            "Iter #257: y_pred 1.7999998429935054: loss: 1.5700649469430061e-07\n",
            "Iter #258: y_pred 1.7999998528843628: loss: 1.4711563722791254e-07\n",
            "Iter #259: y_pred 1.7999998621521303: loss: 1.3784786978554564e-07\n",
            "Iter #260: y_pred 1.7999998708360616: loss: 1.2916393843376284e-07\n",
            "Iter #261: y_pred 1.7999998789729355: loss: 1.2102706459238277e-07\n",
            "Iter #262: y_pred 1.799999886597215: loss: 1.1340278494031963e-07\n",
            "Iter #263: y_pred 1.7999998937411918: loss: 1.0625880819681299e-07\n",
            "Iter #264: y_pred 1.7999999004351235: loss: 9.956487656559432e-08\n",
            "Iter #265: y_pred 1.7999999067073609: loss: 9.329263916946218e-08\n"
          ]
        }
      ]
    },
    {
      "cell_type": "code",
      "source": [
        "loss = pd.DataFrame({'train_loss': model['train_loss']})\n",
        "loss = loss.reset_index().rename(columns={'index': 'iters'})\n",
        "loss['iters'] += 1\n",
        "loss.head()"
      ],
      "metadata": {
        "colab": {
          "base_uri": "https://localhost:8080/",
          "height": 206
        },
        "id": "eDa5OgYdNum-",
        "outputId": "5f1dcb92-fadd-4b28-b57f-404427214d5e"
      },
      "execution_count": null,
      "outputs": [
        {
          "output_type": "execute_result",
          "data": {
            "text/plain": [
              "   iters  train_loss\n",
              "0      1    1.278516\n",
              "1      2    1.243412\n",
              "2      3    1.207836\n",
              "3      4    1.171880\n",
              "4      5    1.135640"
            ],
            "text/html": [
              "\n",
              "  <div id=\"df-8669909b-10cd-41c7-9465-51fcc98d1ec7\" class=\"colab-df-container\">\n",
              "    <div>\n",
              "<style scoped>\n",
              "    .dataframe tbody tr th:only-of-type {\n",
              "        vertical-align: middle;\n",
              "    }\n",
              "\n",
              "    .dataframe tbody tr th {\n",
              "        vertical-align: top;\n",
              "    }\n",
              "\n",
              "    .dataframe thead th {\n",
              "        text-align: right;\n",
              "    }\n",
              "</style>\n",
              "<table border=\"1\" class=\"dataframe\">\n",
              "  <thead>\n",
              "    <tr style=\"text-align: right;\">\n",
              "      <th></th>\n",
              "      <th>iters</th>\n",
              "      <th>train_loss</th>\n",
              "    </tr>\n",
              "  </thead>\n",
              "  <tbody>\n",
              "    <tr>\n",
              "      <th>0</th>\n",
              "      <td>1</td>\n",
              "      <td>1.278516</td>\n",
              "    </tr>\n",
              "    <tr>\n",
              "      <th>1</th>\n",
              "      <td>2</td>\n",
              "      <td>1.243412</td>\n",
              "    </tr>\n",
              "    <tr>\n",
              "      <th>2</th>\n",
              "      <td>3</td>\n",
              "      <td>1.207836</td>\n",
              "    </tr>\n",
              "    <tr>\n",
              "      <th>3</th>\n",
              "      <td>4</td>\n",
              "      <td>1.171880</td>\n",
              "    </tr>\n",
              "    <tr>\n",
              "      <th>4</th>\n",
              "      <td>5</td>\n",
              "      <td>1.135640</td>\n",
              "    </tr>\n",
              "  </tbody>\n",
              "</table>\n",
              "</div>\n",
              "    <div class=\"colab-df-buttons\">\n",
              "\n",
              "  <div class=\"colab-df-container\">\n",
              "    <button class=\"colab-df-convert\" onclick=\"convertToInteractive('df-8669909b-10cd-41c7-9465-51fcc98d1ec7')\"\n",
              "            title=\"Convert this dataframe to an interactive table.\"\n",
              "            style=\"display:none;\">\n",
              "\n",
              "  <svg xmlns=\"http://www.w3.org/2000/svg\" height=\"24px\" viewBox=\"0 -960 960 960\">\n",
              "    <path d=\"M120-120v-720h720v720H120Zm60-500h600v-160H180v160Zm220 220h160v-160H400v160Zm0 220h160v-160H400v160ZM180-400h160v-160H180v160Zm440 0h160v-160H620v160ZM180-180h160v-160H180v160Zm440 0h160v-160H620v160Z\"/>\n",
              "  </svg>\n",
              "    </button>\n",
              "\n",
              "  <style>\n",
              "    .colab-df-container {\n",
              "      display:flex;\n",
              "      gap: 12px;\n",
              "    }\n",
              "\n",
              "    .colab-df-convert {\n",
              "      background-color: #E8F0FE;\n",
              "      border: none;\n",
              "      border-radius: 50%;\n",
              "      cursor: pointer;\n",
              "      display: none;\n",
              "      fill: #1967D2;\n",
              "      height: 32px;\n",
              "      padding: 0 0 0 0;\n",
              "      width: 32px;\n",
              "    }\n",
              "\n",
              "    .colab-df-convert:hover {\n",
              "      background-color: #E2EBFA;\n",
              "      box-shadow: 0px 1px 2px rgba(60, 64, 67, 0.3), 0px 1px 3px 1px rgba(60, 64, 67, 0.15);\n",
              "      fill: #174EA6;\n",
              "    }\n",
              "\n",
              "    .colab-df-buttons div {\n",
              "      margin-bottom: 4px;\n",
              "    }\n",
              "\n",
              "    [theme=dark] .colab-df-convert {\n",
              "      background-color: #3B4455;\n",
              "      fill: #D2E3FC;\n",
              "    }\n",
              "\n",
              "    [theme=dark] .colab-df-convert:hover {\n",
              "      background-color: #434B5C;\n",
              "      box-shadow: 0px 1px 3px 1px rgba(0, 0, 0, 0.15);\n",
              "      filter: drop-shadow(0px 1px 2px rgba(0, 0, 0, 0.3));\n",
              "      fill: #FFFFFF;\n",
              "    }\n",
              "  </style>\n",
              "\n",
              "    <script>\n",
              "      const buttonEl =\n",
              "        document.querySelector('#df-8669909b-10cd-41c7-9465-51fcc98d1ec7 button.colab-df-convert');\n",
              "      buttonEl.style.display =\n",
              "        google.colab.kernel.accessAllowed ? 'block' : 'none';\n",
              "\n",
              "      async function convertToInteractive(key) {\n",
              "        const element = document.querySelector('#df-8669909b-10cd-41c7-9465-51fcc98d1ec7');\n",
              "        const dataTable =\n",
              "          await google.colab.kernel.invokeFunction('convertToInteractive',\n",
              "                                                    [key], {});\n",
              "        if (!dataTable) return;\n",
              "\n",
              "        const docLinkHtml = 'Like what you see? Visit the ' +\n",
              "          '<a target=\"_blank\" href=https://colab.research.google.com/notebooks/data_table.ipynb>data table notebook</a>'\n",
              "          + ' to learn more about interactive tables.';\n",
              "        element.innerHTML = '';\n",
              "        dataTable['output_type'] = 'display_data';\n",
              "        await google.colab.output.renderOutput(dataTable, element);\n",
              "        const docLink = document.createElement('div');\n",
              "        docLink.innerHTML = docLinkHtml;\n",
              "        element.appendChild(docLink);\n",
              "      }\n",
              "    </script>\n",
              "  </div>\n",
              "\n",
              "\n",
              "<div id=\"df-8d112e13-2870-4477-9d54-aa9091991e33\">\n",
              "  <button class=\"colab-df-quickchart\" onclick=\"quickchart('df-8d112e13-2870-4477-9d54-aa9091991e33')\"\n",
              "            title=\"Suggest charts\"\n",
              "            style=\"display:none;\">\n",
              "\n",
              "<svg xmlns=\"http://www.w3.org/2000/svg\" height=\"24px\"viewBox=\"0 0 24 24\"\n",
              "     width=\"24px\">\n",
              "    <g>\n",
              "        <path d=\"M19 3H5c-1.1 0-2 .9-2 2v14c0 1.1.9 2 2 2h14c1.1 0 2-.9 2-2V5c0-1.1-.9-2-2-2zM9 17H7v-7h2v7zm4 0h-2V7h2v10zm4 0h-2v-4h2v4z\"/>\n",
              "    </g>\n",
              "</svg>\n",
              "  </button>\n",
              "\n",
              "<style>\n",
              "  .colab-df-quickchart {\n",
              "      --bg-color: #E8F0FE;\n",
              "      --fill-color: #1967D2;\n",
              "      --hover-bg-color: #E2EBFA;\n",
              "      --hover-fill-color: #174EA6;\n",
              "      --disabled-fill-color: #AAA;\n",
              "      --disabled-bg-color: #DDD;\n",
              "  }\n",
              "\n",
              "  [theme=dark] .colab-df-quickchart {\n",
              "      --bg-color: #3B4455;\n",
              "      --fill-color: #D2E3FC;\n",
              "      --hover-bg-color: #434B5C;\n",
              "      --hover-fill-color: #FFFFFF;\n",
              "      --disabled-bg-color: #3B4455;\n",
              "      --disabled-fill-color: #666;\n",
              "  }\n",
              "\n",
              "  .colab-df-quickchart {\n",
              "    background-color: var(--bg-color);\n",
              "    border: none;\n",
              "    border-radius: 50%;\n",
              "    cursor: pointer;\n",
              "    display: none;\n",
              "    fill: var(--fill-color);\n",
              "    height: 32px;\n",
              "    padding: 0;\n",
              "    width: 32px;\n",
              "  }\n",
              "\n",
              "  .colab-df-quickchart:hover {\n",
              "    background-color: var(--hover-bg-color);\n",
              "    box-shadow: 0 1px 2px rgba(60, 64, 67, 0.3), 0 1px 3px 1px rgba(60, 64, 67, 0.15);\n",
              "    fill: var(--button-hover-fill-color);\n",
              "  }\n",
              "\n",
              "  .colab-df-quickchart-complete:disabled,\n",
              "  .colab-df-quickchart-complete:disabled:hover {\n",
              "    background-color: var(--disabled-bg-color);\n",
              "    fill: var(--disabled-fill-color);\n",
              "    box-shadow: none;\n",
              "  }\n",
              "\n",
              "  .colab-df-spinner {\n",
              "    border: 2px solid var(--fill-color);\n",
              "    border-color: transparent;\n",
              "    border-bottom-color: var(--fill-color);\n",
              "    animation:\n",
              "      spin 1s steps(1) infinite;\n",
              "  }\n",
              "\n",
              "  @keyframes spin {\n",
              "    0% {\n",
              "      border-color: transparent;\n",
              "      border-bottom-color: var(--fill-color);\n",
              "      border-left-color: var(--fill-color);\n",
              "    }\n",
              "    20% {\n",
              "      border-color: transparent;\n",
              "      border-left-color: var(--fill-color);\n",
              "      border-top-color: var(--fill-color);\n",
              "    }\n",
              "    30% {\n",
              "      border-color: transparent;\n",
              "      border-left-color: var(--fill-color);\n",
              "      border-top-color: var(--fill-color);\n",
              "      border-right-color: var(--fill-color);\n",
              "    }\n",
              "    40% {\n",
              "      border-color: transparent;\n",
              "      border-right-color: var(--fill-color);\n",
              "      border-top-color: var(--fill-color);\n",
              "    }\n",
              "    60% {\n",
              "      border-color: transparent;\n",
              "      border-right-color: var(--fill-color);\n",
              "    }\n",
              "    80% {\n",
              "      border-color: transparent;\n",
              "      border-right-color: var(--fill-color);\n",
              "      border-bottom-color: var(--fill-color);\n",
              "    }\n",
              "    90% {\n",
              "      border-color: transparent;\n",
              "      border-bottom-color: var(--fill-color);\n",
              "    }\n",
              "  }\n",
              "</style>\n",
              "\n",
              "  <script>\n",
              "    async function quickchart(key) {\n",
              "      const quickchartButtonEl =\n",
              "        document.querySelector('#' + key + ' button');\n",
              "      quickchartButtonEl.disabled = true;  // To prevent multiple clicks.\n",
              "      quickchartButtonEl.classList.add('colab-df-spinner');\n",
              "      try {\n",
              "        const charts = await google.colab.kernel.invokeFunction(\n",
              "            'suggestCharts', [key], {});\n",
              "      } catch (error) {\n",
              "        console.error('Error during call to suggestCharts:', error);\n",
              "      }\n",
              "      quickchartButtonEl.classList.remove('colab-df-spinner');\n",
              "      quickchartButtonEl.classList.add('colab-df-quickchart-complete');\n",
              "    }\n",
              "    (() => {\n",
              "      let quickchartButtonEl =\n",
              "        document.querySelector('#df-8d112e13-2870-4477-9d54-aa9091991e33 button');\n",
              "      quickchartButtonEl.style.display =\n",
              "        google.colab.kernel.accessAllowed ? 'block' : 'none';\n",
              "    })();\n",
              "  </script>\n",
              "</div>\n",
              "\n",
              "    </div>\n",
              "  </div>\n"
            ],
            "application/vnd.google.colaboratory.intrinsic+json": {
              "type": "dataframe",
              "variable_name": "loss",
              "summary": "{\n  \"name\": \"loss\",\n  \"rows\": 266,\n  \"fields\": [\n    {\n      \"column\": \"iters\",\n      \"properties\": {\n        \"dtype\": \"number\",\n        \"std\": 76,\n        \"min\": 1,\n        \"max\": 266,\n        \"num_unique_values\": 266,\n        \"samples\": [\n          182,\n          120,\n          140\n        ],\n        \"semantic_type\": \"\",\n        \"description\": \"\"\n      }\n    },\n    {\n      \"column\": \"train_loss\",\n      \"properties\": {\n        \"dtype\": \"number\",\n        \"std\": 0.26521830996603596,\n        \"min\": 9.329263916946218e-08,\n        \"max\": 1.2785162910380736,\n        \"num_unique_values\": 266,\n        \"samples\": [\n          2.205876245264804e-05,\n          0.001245690662620147,\n          0.00033915182468580163\n        ],\n        \"semantic_type\": \"\",\n        \"description\": \"\"\n      }\n    }\n  ]\n}"
            }
          },
          "metadata": {},
          "execution_count": 19
        }
      ]
    },
    {
      "cell_type": "code",
      "source": [
        "import plotly.graph_objects as go\n",
        "\n",
        "fig = go.Figure(data=go.Scatter(x=loss['iters'], y=loss['train_loss'], mode='markers+lines'))\n",
        "fig.show()"
      ],
      "metadata": {
        "colab": {
          "base_uri": "https://localhost:8080/",
          "height": 542
        },
        "id": "QCDeOASZOOCn",
        "outputId": "fd5fb3be-ead5-407d-8b6c-797c670f5dbe"
      },
      "execution_count": null,
      "outputs": [
        {
          "output_type": "display_data",
          "data": {
            "text/html": [
              "<html>\n",
              "<head><meta charset=\"utf-8\" /></head>\n",
              "<body>\n",
              "    <div>            <script src=\"https://cdnjs.cloudflare.com/ajax/libs/mathjax/2.7.5/MathJax.js?config=TeX-AMS-MML_SVG\"></script><script type=\"text/javascript\">if (window.MathJax && window.MathJax.Hub && window.MathJax.Hub.Config) {window.MathJax.Hub.Config({SVG: {font: \"STIX-Web\"}});}</script>                <script type=\"text/javascript\">window.PlotlyConfig = {MathJaxConfig: 'local'};</script>\n",
              "        <script charset=\"utf-8\" src=\"https://cdn.plot.ly/plotly-2.35.2.min.js\"></script>                <div id=\"6cd82954-1f2a-4348-9c2f-869570a19f02\" class=\"plotly-graph-div\" style=\"height:525px; width:100%;\"></div>            <script type=\"text/javascript\">                                    window.PLOTLYENV=window.PLOTLYENV || {};                                    if (document.getElementById(\"6cd82954-1f2a-4348-9c2f-869570a19f02\")) {                    Plotly.newPlot(                        \"6cd82954-1f2a-4348-9c2f-869570a19f02\",                        [{\"mode\":\"markers+lines\",\"x\":[1,2,3,4,5,6,7,8,9,10,11,12,13,14,15,16,17,18,19,20,21,22,23,24,25,26,27,28,29,30,31,32,33,34,35,36,37,38,39,40,41,42,43,44,45,46,47,48,49,50,51,52,53,54,55,56,57,58,59,60,61,62,63,64,65,66,67,68,69,70,71,72,73,74,75,76,77,78,79,80,81,82,83,84,85,86,87,88,89,90,91,92,93,94,95,96,97,98,99,100,101,102,103,104,105,106,107,108,109,110,111,112,113,114,115,116,117,118,119,120,121,122,123,124,125,126,127,128,129,130,131,132,133,134,135,136,137,138,139,140,141,142,143,144,145,146,147,148,149,150,151,152,153,154,155,156,157,158,159,160,161,162,163,164,165,166,167,168,169,170,171,172,173,174,175,176,177,178,179,180,181,182,183,184,185,186,187,188,189,190,191,192,193,194,195,196,197,198,199,200,201,202,203,204,205,206,207,208,209,210,211,212,213,214,215,216,217,218,219,220,221,222,223,224,225,226,227,228,229,230,231,232,233,234,235,236,237,238,239,240,241,242,243,244,245,246,247,248,249,250,251,252,253,254,255,256,257,258,259,260,261,262,263,264,265,266],\"y\":[1.2785162910380736,1.24341180701514,1.207835877378699,1.1718803898043426,1.1356403350092679,1.0992126300568468,1.0626949595664614,1.0261846553958023,0.9897776337209752,0.9535674062559891,0.9176441797453407,0.8820940549611633,0.8469983333732874,0.8124329365663763,0.7784679404725343,0.7451672236743434,0.7125882264966363,0.6807818154084879,0.6497922454408076,0.6196572119092043,0.5904079817167849,0.5620695938809861,0.5346611186528596,0.5081959646369818,0.48268222362957736,0.4581230434223438,0.4345170195204322,0.4118585975471727,0.39013847901141907,0.3693440240563024,0.34945964575701116,0.3304671914619359,0.31234630755406134,0.29507478483135574,0.2786288824546379,0.2629836290820877,0.24811310039806256,0.2339906727502148,0.22058925303555021,0.2078814853273705,0.19583993501663932,0.1844372514596826,0.17364631028621869,0.1634403366344872,0.15379301065069018,0.14467855662455986,0.13607181713785255,0.12794831358345382,0.12028429437466248,0.11305677211148013,0.10624355090725346,0.09982324500807316,0.09377528976171523,0.08807994591488089,0.08271829813897069,0.07767224860702937,0.07292450636906023,0.06845857320042126,0.0642587265291672,0.06030999998340225,0.05659816203918533,0.05310969319347225,0.04983176203493933,0.04675220053828544,0.043859478864604506,0.041142679911478686,0.03859147382136974,0.036196092625415455,0.03394730517166278,0.03183639246179859,0.029855123498365055,0.027995731724979045,0.026250892125021297,0.024613699029363056,0.023077644670755015,0.02163659851133537,0.020284787360089096,0.019016776288895754,0.017827450348836926,0.01671199708256732,0.015665889823675228,0.01468487176991462,0.013764940813907778,0.012902335112271679,0.01209351937206704,0.011335171831872382,0.010624171913634628,0.00995758852065265,0.009332668956553158,0.008746828439906595,0.008197640189095301,0.007682826052261449,0.007200247657447756,0.0067478980585320425,0.006323893853084295,0.005926467748921915,0.005553961556822751,0.005204819587602438,0.004877582432529781,0.004570881106853664,0.004283431537013271,0.004014029372927608,0.00376154510755633,0.0035249194867308375,0.003303159193047689,0.003095332788374039,0.0029005669002915013,0.0027180426385065015,0.002546992228001921,0.0023866958463469867,0.0022364786532846903,0.0020957080013099816,0.0019637908165983653,0.0018401711401876408,0.0017243278199050582,0.0016157723440433092,0.0015140468082963654,0.0014187220079524554,0.0013293956477999913,0.001245690662620147,0.0011672536415787693,0.0010937533501931274,0.0010248793439353587,0.0009603406678808657,0.0008998646371349839,0.0008431956930883278,0.0007900943308487562,0.0007403360934701286,0.0006937106288613659,0.0006500208055166823,0.0006090818834263434,0.000570720736760455,0.0005347751251165711,0.0005010930103239719,0.0004695319159762068,0.00043995832703758175,0.0004122471270322503,0.0003862810704793329,0.00036195028837915366,0.00033915182468580163,0.00031778920184355464,0.00029777201356218086,0.00027901554314024857,0.00026144040573616856,0.0002449722130877241,0.00022954125927965308,0.0002150822262441121,0.00020153390775279334,0.00018883895074761625,0.00017694361292330818,0.0001657975355415786,0.00015535353052276157,0.00014556738092186272,0.00013639765394590775,0.0001278055257278865,0.00011975461711988267,0.00011221083981127755,0.00010514225212809869,0.00009851892389911576,0.00009231280982646695,0.00008649763081924888,0.00008104876279779738,0.00007594313249126294,0.00007115911979282963,0.00006667646626179469,0.00006247618938304278,0.00005854050222198204,0.0000548527381389885,0.00005139728024050605,0.00004815949527348096,0.00004512567167913595,0.000042282961547401854,0.00003961932622797981,0.00003712348536111243,0.00003478486912222856,0.000032593573471739745,0.000030540318219918206,0.000028616407737658278,0.000026813694136818,0.000025124542772037017,0.000023541799912596417,0.00002205876245264804,0.00002066914952636445,0.000019367075914544785,0.000018147027120329895,0.000017003836020990093,0.000015932660984541158,0.000014928965369476188,0.000013988498312800246,0.000013107276727319928,0.000012281568435801304,0.000011507876365390857,0.000010782923737240324,0.000010103640192937746,9.467148786690416e-6,8.870753805512166e-6,8.311929352133873e-6,7.788308646894393e-6,7.297674005535271e-6,6.8379474467139545e-6,6.407181891043834e-6,6.003552915911925e-6,5.625351028992753e-6,5.270974427373787e-6,4.938922214980934e-6,4.627788044775372e-6,4.336254162851105e-6,4.063085829342228e-6,3.8071260870520263e-6,3.567290860706507e-6,3.3425643692908125e-6,3.131994820826378e-6,2.9346903811511282e-6,2.7498153998273267e-6,2.5765868680860393e-6,2.414271103701182e-6,2.262180642587097e-6,2.119671329348094e-6,1.986139587462077e-6,1.8610198631030528e-6,1.7437822303900674e-6,1.6339301467382938e-6,1.5309983496525348e-6,1.4345508867474877e-6,1.3441792683366316e-6,1.2595007385929335e-6,1.1801566535130092e-6,1.1058109623540702e-6,1.0361487845500506e-6,9.70875075667621e-7,9.097133779611966e-7,8.524046497537796e-7,7.98706167648433e-7,7.483904997940272e-7,7.012445399912082e-7,6.570686086337929e-7,6.156756040542888e-7,5.768902122671449e-7,5.405481628972808e-7,5.064955339584287e-7,4.7458810059630707e-7,4.44690722245511e-7,4.1667677308510065e-7,3.90427603802479e-7,3.658320395505399e-7,3.427859089910612e-7,3.2119160375820854e-7,3.0095766323512407e-7,2.819983897506262e-7,2.642334833158344e-7,2.4758770345023606e-7,2.3199054921541062e-7,2.1737596056503605e-7,2.0368203967890963e-7,1.9085078739600192e-7,1.7882785896539133e-7,1.675623326757858e-7,1.5700649469430061e-7,1.4711563722791254e-7,1.3784786978554564e-7,1.2916393843376284e-7,1.2102706459238277e-7,1.1340278494031963e-7,1.0625880819681299e-7,9.956487656559432e-8,9.329263916946218e-8],\"type\":\"scatter\"}],                        {\"template\":{\"data\":{\"histogram2dcontour\":[{\"type\":\"histogram2dcontour\",\"colorbar\":{\"outlinewidth\":0,\"ticks\":\"\"},\"colorscale\":[[0.0,\"#0d0887\"],[0.1111111111111111,\"#46039f\"],[0.2222222222222222,\"#7201a8\"],[0.3333333333333333,\"#9c179e\"],[0.4444444444444444,\"#bd3786\"],[0.5555555555555556,\"#d8576b\"],[0.6666666666666666,\"#ed7953\"],[0.7777777777777778,\"#fb9f3a\"],[0.8888888888888888,\"#fdca26\"],[1.0,\"#f0f921\"]]}],\"choropleth\":[{\"type\":\"choropleth\",\"colorbar\":{\"outlinewidth\":0,\"ticks\":\"\"}}],\"histogram2d\":[{\"type\":\"histogram2d\",\"colorbar\":{\"outlinewidth\":0,\"ticks\":\"\"},\"colorscale\":[[0.0,\"#0d0887\"],[0.1111111111111111,\"#46039f\"],[0.2222222222222222,\"#7201a8\"],[0.3333333333333333,\"#9c179e\"],[0.4444444444444444,\"#bd3786\"],[0.5555555555555556,\"#d8576b\"],[0.6666666666666666,\"#ed7953\"],[0.7777777777777778,\"#fb9f3a\"],[0.8888888888888888,\"#fdca26\"],[1.0,\"#f0f921\"]]}],\"heatmap\":[{\"type\":\"heatmap\",\"colorbar\":{\"outlinewidth\":0,\"ticks\":\"\"},\"colorscale\":[[0.0,\"#0d0887\"],[0.1111111111111111,\"#46039f\"],[0.2222222222222222,\"#7201a8\"],[0.3333333333333333,\"#9c179e\"],[0.4444444444444444,\"#bd3786\"],[0.5555555555555556,\"#d8576b\"],[0.6666666666666666,\"#ed7953\"],[0.7777777777777778,\"#fb9f3a\"],[0.8888888888888888,\"#fdca26\"],[1.0,\"#f0f921\"]]}],\"heatmapgl\":[{\"type\":\"heatmapgl\",\"colorbar\":{\"outlinewidth\":0,\"ticks\":\"\"},\"colorscale\":[[0.0,\"#0d0887\"],[0.1111111111111111,\"#46039f\"],[0.2222222222222222,\"#7201a8\"],[0.3333333333333333,\"#9c179e\"],[0.4444444444444444,\"#bd3786\"],[0.5555555555555556,\"#d8576b\"],[0.6666666666666666,\"#ed7953\"],[0.7777777777777778,\"#fb9f3a\"],[0.8888888888888888,\"#fdca26\"],[1.0,\"#f0f921\"]]}],\"contourcarpet\":[{\"type\":\"contourcarpet\",\"colorbar\":{\"outlinewidth\":0,\"ticks\":\"\"}}],\"contour\":[{\"type\":\"contour\",\"colorbar\":{\"outlinewidth\":0,\"ticks\":\"\"},\"colorscale\":[[0.0,\"#0d0887\"],[0.1111111111111111,\"#46039f\"],[0.2222222222222222,\"#7201a8\"],[0.3333333333333333,\"#9c179e\"],[0.4444444444444444,\"#bd3786\"],[0.5555555555555556,\"#d8576b\"],[0.6666666666666666,\"#ed7953\"],[0.7777777777777778,\"#fb9f3a\"],[0.8888888888888888,\"#fdca26\"],[1.0,\"#f0f921\"]]}],\"surface\":[{\"type\":\"surface\",\"colorbar\":{\"outlinewidth\":0,\"ticks\":\"\"},\"colorscale\":[[0.0,\"#0d0887\"],[0.1111111111111111,\"#46039f\"],[0.2222222222222222,\"#7201a8\"],[0.3333333333333333,\"#9c179e\"],[0.4444444444444444,\"#bd3786\"],[0.5555555555555556,\"#d8576b\"],[0.6666666666666666,\"#ed7953\"],[0.7777777777777778,\"#fb9f3a\"],[0.8888888888888888,\"#fdca26\"],[1.0,\"#f0f921\"]]}],\"mesh3d\":[{\"type\":\"mesh3d\",\"colorbar\":{\"outlinewidth\":0,\"ticks\":\"\"}}],\"scatter\":[{\"fillpattern\":{\"fillmode\":\"overlay\",\"size\":10,\"solidity\":0.2},\"type\":\"scatter\"}],\"parcoords\":[{\"type\":\"parcoords\",\"line\":{\"colorbar\":{\"outlinewidth\":0,\"ticks\":\"\"}}}],\"scatterpolargl\":[{\"type\":\"scatterpolargl\",\"marker\":{\"colorbar\":{\"outlinewidth\":0,\"ticks\":\"\"}}}],\"bar\":[{\"error_x\":{\"color\":\"#2a3f5f\"},\"error_y\":{\"color\":\"#2a3f5f\"},\"marker\":{\"line\":{\"color\":\"#E5ECF6\",\"width\":0.5},\"pattern\":{\"fillmode\":\"overlay\",\"size\":10,\"solidity\":0.2}},\"type\":\"bar\"}],\"scattergeo\":[{\"type\":\"scattergeo\",\"marker\":{\"colorbar\":{\"outlinewidth\":0,\"ticks\":\"\"}}}],\"scatterpolar\":[{\"type\":\"scatterpolar\",\"marker\":{\"colorbar\":{\"outlinewidth\":0,\"ticks\":\"\"}}}],\"histogram\":[{\"marker\":{\"pattern\":{\"fillmode\":\"overlay\",\"size\":10,\"solidity\":0.2}},\"type\":\"histogram\"}],\"scattergl\":[{\"type\":\"scattergl\",\"marker\":{\"colorbar\":{\"outlinewidth\":0,\"ticks\":\"\"}}}],\"scatter3d\":[{\"type\":\"scatter3d\",\"line\":{\"colorbar\":{\"outlinewidth\":0,\"ticks\":\"\"}},\"marker\":{\"colorbar\":{\"outlinewidth\":0,\"ticks\":\"\"}}}],\"scattermapbox\":[{\"type\":\"scattermapbox\",\"marker\":{\"colorbar\":{\"outlinewidth\":0,\"ticks\":\"\"}}}],\"scatterternary\":[{\"type\":\"scatterternary\",\"marker\":{\"colorbar\":{\"outlinewidth\":0,\"ticks\":\"\"}}}],\"scattercarpet\":[{\"type\":\"scattercarpet\",\"marker\":{\"colorbar\":{\"outlinewidth\":0,\"ticks\":\"\"}}}],\"carpet\":[{\"aaxis\":{\"endlinecolor\":\"#2a3f5f\",\"gridcolor\":\"white\",\"linecolor\":\"white\",\"minorgridcolor\":\"white\",\"startlinecolor\":\"#2a3f5f\"},\"baxis\":{\"endlinecolor\":\"#2a3f5f\",\"gridcolor\":\"white\",\"linecolor\":\"white\",\"minorgridcolor\":\"white\",\"startlinecolor\":\"#2a3f5f\"},\"type\":\"carpet\"}],\"table\":[{\"cells\":{\"fill\":{\"color\":\"#EBF0F8\"},\"line\":{\"color\":\"white\"}},\"header\":{\"fill\":{\"color\":\"#C8D4E3\"},\"line\":{\"color\":\"white\"}},\"type\":\"table\"}],\"barpolar\":[{\"marker\":{\"line\":{\"color\":\"#E5ECF6\",\"width\":0.5},\"pattern\":{\"fillmode\":\"overlay\",\"size\":10,\"solidity\":0.2}},\"type\":\"barpolar\"}],\"pie\":[{\"automargin\":true,\"type\":\"pie\"}]},\"layout\":{\"autotypenumbers\":\"strict\",\"colorway\":[\"#636efa\",\"#EF553B\",\"#00cc96\",\"#ab63fa\",\"#FFA15A\",\"#19d3f3\",\"#FF6692\",\"#B6E880\",\"#FF97FF\",\"#FECB52\"],\"font\":{\"color\":\"#2a3f5f\"},\"hovermode\":\"closest\",\"hoverlabel\":{\"align\":\"left\"},\"paper_bgcolor\":\"white\",\"plot_bgcolor\":\"#E5ECF6\",\"polar\":{\"bgcolor\":\"#E5ECF6\",\"angularaxis\":{\"gridcolor\":\"white\",\"linecolor\":\"white\",\"ticks\":\"\"},\"radialaxis\":{\"gridcolor\":\"white\",\"linecolor\":\"white\",\"ticks\":\"\"}},\"ternary\":{\"bgcolor\":\"#E5ECF6\",\"aaxis\":{\"gridcolor\":\"white\",\"linecolor\":\"white\",\"ticks\":\"\"},\"baxis\":{\"gridcolor\":\"white\",\"linecolor\":\"white\",\"ticks\":\"\"},\"caxis\":{\"gridcolor\":\"white\",\"linecolor\":\"white\",\"ticks\":\"\"}},\"coloraxis\":{\"colorbar\":{\"outlinewidth\":0,\"ticks\":\"\"}},\"colorscale\":{\"sequential\":[[0.0,\"#0d0887\"],[0.1111111111111111,\"#46039f\"],[0.2222222222222222,\"#7201a8\"],[0.3333333333333333,\"#9c179e\"],[0.4444444444444444,\"#bd3786\"],[0.5555555555555556,\"#d8576b\"],[0.6666666666666666,\"#ed7953\"],[0.7777777777777778,\"#fb9f3a\"],[0.8888888888888888,\"#fdca26\"],[1.0,\"#f0f921\"]],\"sequentialminus\":[[0.0,\"#0d0887\"],[0.1111111111111111,\"#46039f\"],[0.2222222222222222,\"#7201a8\"],[0.3333333333333333,\"#9c179e\"],[0.4444444444444444,\"#bd3786\"],[0.5555555555555556,\"#d8576b\"],[0.6666666666666666,\"#ed7953\"],[0.7777777777777778,\"#fb9f3a\"],[0.8888888888888888,\"#fdca26\"],[1.0,\"#f0f921\"]],\"diverging\":[[0,\"#8e0152\"],[0.1,\"#c51b7d\"],[0.2,\"#de77ae\"],[0.3,\"#f1b6da\"],[0.4,\"#fde0ef\"],[0.5,\"#f7f7f7\"],[0.6,\"#e6f5d0\"],[0.7,\"#b8e186\"],[0.8,\"#7fbc41\"],[0.9,\"#4d9221\"],[1,\"#276419\"]]},\"xaxis\":{\"gridcolor\":\"white\",\"linecolor\":\"white\",\"ticks\":\"\",\"title\":{\"standoff\":15},\"zerolinecolor\":\"white\",\"automargin\":true,\"zerolinewidth\":2},\"yaxis\":{\"gridcolor\":\"white\",\"linecolor\":\"white\",\"ticks\":\"\",\"title\":{\"standoff\":15},\"zerolinecolor\":\"white\",\"automargin\":true,\"zerolinewidth\":2},\"scene\":{\"xaxis\":{\"backgroundcolor\":\"#E5ECF6\",\"gridcolor\":\"white\",\"linecolor\":\"white\",\"showbackground\":true,\"ticks\":\"\",\"zerolinecolor\":\"white\",\"gridwidth\":2},\"yaxis\":{\"backgroundcolor\":\"#E5ECF6\",\"gridcolor\":\"white\",\"linecolor\":\"white\",\"showbackground\":true,\"ticks\":\"\",\"zerolinecolor\":\"white\",\"gridwidth\":2},\"zaxis\":{\"backgroundcolor\":\"#E5ECF6\",\"gridcolor\":\"white\",\"linecolor\":\"white\",\"showbackground\":true,\"ticks\":\"\",\"zerolinecolor\":\"white\",\"gridwidth\":2}},\"shapedefaults\":{\"line\":{\"color\":\"#2a3f5f\"}},\"annotationdefaults\":{\"arrowcolor\":\"#2a3f5f\",\"arrowhead\":0,\"arrowwidth\":1},\"geo\":{\"bgcolor\":\"white\",\"landcolor\":\"#E5ECF6\",\"subunitcolor\":\"white\",\"showland\":true,\"showlakes\":true,\"lakecolor\":\"white\"},\"title\":{\"x\":0.05},\"mapbox\":{\"style\":\"light\"}}}},                        {\"responsive\": true}                    ).then(function(){\n",
              "                            \n",
              "var gd = document.getElementById('6cd82954-1f2a-4348-9c2f-869570a19f02');\n",
              "var x = new MutationObserver(function (mutations, observer) {{\n",
              "        var display = window.getComputedStyle(gd).display;\n",
              "        if (!display || display === 'none') {{\n",
              "            console.log([gd, 'removed!']);\n",
              "            Plotly.purge(gd);\n",
              "            observer.disconnect();\n",
              "        }}\n",
              "}});\n",
              "\n",
              "// Listen for the removal of the full notebook cells\n",
              "var notebookContainer = gd.closest('#notebook-container');\n",
              "if (notebookContainer) {{\n",
              "    x.observe(notebookContainer, {childList: true});\n",
              "}}\n",
              "\n",
              "// Listen for the clearing of the current output cell\n",
              "var outputEl = gd.closest('.output');\n",
              "if (outputEl) {{\n",
              "    x.observe(outputEl, {childList: true});\n",
              "}}\n",
              "\n",
              "                        })                };                            </script>        </div>\n",
              "</body>\n",
              "</html>"
            ]
          },
          "metadata": {}
        }
      ]
    },
    {
      "cell_type": "code",
      "source": [
        "predict(X, model['W1'], model['W2'])"
      ],
      "metadata": {
        "colab": {
          "base_uri": "https://localhost:8080/"
        },
        "id": "zRHQIrmYOm43",
        "outputId": "2c1e4f82-e719-4795-b669-b69e96be4d2d"
      },
      "execution_count": null,
      "outputs": [
        {
          "output_type": "execute_result",
          "data": {
            "text/plain": [
              "1.7999999067073609"
            ]
          },
          "metadata": {},
          "execution_count": 22
        }
      ]
    },
    {
      "cell_type": "markdown",
      "source": [
        "## FUNKCJE AKTYWACJI SA BARDZO WAŻNE W SIECIACH NEUROWOYCH:\n",
        "## 1. Jeśli chcemy skupic sie na regresji używamy funkcji liniowych\n",
        "## 2. Jeśli chcemy cos sklasyfikować (prawd poszcz. klasy) f. sigmoid!\n",
        "## 3. Domyśłnie f. aktywacji jest f. liniowa - linear"
      ],
      "metadata": {
        "id": "OUMOsCUMdLZq"
      }
    },
    {
      "cell_type": "markdown",
      "source": [
        "Ćwiczenie dla siebie"
      ],
      "metadata": {
        "id": "t1GLpbXu-i3x"
      }
    },
    {
      "cell_type": "code",
      "source": [
        "import tensorflow as tf\n",
        "import numpy as np\n",
        "import pandas as pd\n",
        "import plotly.express as px\n",
        "tf.__version__"
      ],
      "metadata": {
        "colab": {
          "base_uri": "https://localhost:8080/",
          "height": 35
        },
        "id": "vn7kXHYy-wqt",
        "outputId": "1c8799e3-3eaf-47be-e458-b7d3d1b49934"
      },
      "execution_count": null,
      "outputs": [
        {
          "output_type": "execute_result",
          "data": {
            "text/plain": [
              "'2.18.0'"
            ],
            "application/vnd.google.colaboratory.intrinsic+json": {
              "type": "string"
            }
          },
          "metadata": {},
          "execution_count": 7
        }
      ]
    },
    {
      "cell_type": "code",
      "source": [
        "data = np.random.randn(1000, 150)\n",
        "labels = np.random.randint(2, size=(1000, 1))\n",
        "\n",
        "print(data.shape, labels.shape)"
      ],
      "metadata": {
        "colab": {
          "base_uri": "https://localhost:8080/"
        },
        "id": "ubGuShvV-zcr",
        "outputId": "4d1be04e-9bca-486a-ce32-24d72a8cf194"
      },
      "execution_count": null,
      "outputs": [
        {
          "output_type": "stream",
          "name": "stdout",
          "text": [
            "(1000, 150) (1000, 1)\n"
          ]
        }
      ]
    },
    {
      "cell_type": "code",
      "source": [
        "data[:3]"
      ],
      "metadata": {
        "colab": {
          "base_uri": "https://localhost:8080/"
        },
        "collapsed": true,
        "id": "V70mYZPNAwsW",
        "outputId": "22533e69-f8a9-412d-d86f-59f6f70784d8"
      },
      "execution_count": null,
      "outputs": [
        {
          "output_type": "execute_result",
          "data": {
            "text/plain": [
              "array([[ 0.89977167,  0.09490072, -0.51281966,  0.65839073,  1.17025778,\n",
              "        -0.3293414 , -0.31664499, -1.62149694, -2.50939896, -1.35152212,\n",
              "         1.0395334 , -0.25000069,  2.02690435,  1.26412993,  0.24763633,\n",
              "         1.8201105 , -0.82714555,  0.38460437, -1.9840828 ,  0.8738591 ,\n",
              "         0.96359151,  0.60767966,  1.65461617,  0.5092211 , -0.16632494,\n",
              "         1.56099708,  1.95868924,  0.55532526, -0.83561617,  1.84841539,\n",
              "        -0.68027544, -0.39098837,  0.3830419 ,  1.47111599, -0.31252101,\n",
              "         0.86316516,  0.02685875,  1.57982951, -0.92342389, -0.55738239,\n",
              "        -0.7268695 , -0.23734999,  0.65223866, -0.14390214, -0.38226796,\n",
              "         2.57469273,  0.66732675, -0.46322935,  1.20064959,  0.30715221,\n",
              "        -0.54497252, -0.14070121,  1.09933289, -0.23921997,  1.88737213,\n",
              "        -0.11319391, -0.55404183,  1.02150204,  1.55778081,  1.00311459,\n",
              "         1.13639732, -2.42160785,  0.83869016,  2.05828229,  0.50036403,\n",
              "         0.06969877,  0.93755645,  1.33703632, -1.04638466, -3.10610671,\n",
              "        -0.54317911,  0.35866194,  0.17482059,  0.46960916, -0.95197816,\n",
              "        -0.27840652,  0.06360609,  0.19659036, -0.30311696,  0.95586202,\n",
              "        -0.58067151,  0.15604946, -2.00826272,  2.00745831, -0.20527545,\n",
              "        -0.68343551,  0.27163699,  0.1744065 ,  0.40217779, -1.71964925,\n",
              "        -0.32332741,  0.48461334,  0.62985207, -0.67599189,  1.12491457,\n",
              "        -0.53543553, -1.23646127,  1.10654398,  0.63708833, -0.29975781,\n",
              "         0.38575761, -1.35012529, -0.44777549, -0.95320237, -0.14784385,\n",
              "        -0.09809654,  1.7576581 ,  1.26907046, -1.0984334 ,  0.33910213,\n",
              "         1.61534626, -1.00304497,  2.61338034, -0.16317568, -0.32811816,\n",
              "         0.03910343,  0.53147064,  0.97253534,  0.93377039, -0.71902627,\n",
              "         1.45720151, -0.20301621, -0.19843813, -0.91088098,  1.03220736,\n",
              "         0.45725452,  0.5188032 ,  0.219878  , -0.21968277,  3.12417133,\n",
              "        -0.34565834, -0.55019918,  1.29016968,  1.77368236,  0.4669715 ,\n",
              "         0.71939418,  0.80673459, -2.64217453, -0.54824988, -1.63182079,\n",
              "         0.46240216,  0.52946123,  1.28581947,  0.88077833, -0.30393006,\n",
              "        -0.77425662,  0.54612948, -0.14281751,  0.42692114, -0.45778414],\n",
              "       [ 1.02860512, -0.48742637, -0.52160583, -0.83578684, -1.38623331,\n",
              "        -0.15463215,  0.551173  ,  0.13173641,  1.58930769,  0.84003021,\n",
              "        -0.67394242, -0.33678233, -1.15108653, -0.23362122, -0.07815383,\n",
              "         1.74634979,  0.23058445,  1.38118677, -3.04827955,  1.1639179 ,\n",
              "         0.57468382,  0.31769645,  0.76460435,  0.66483455,  1.99584559,\n",
              "         0.46895579,  0.59669609, -0.03778399,  0.55768201, -0.32777186,\n",
              "        -0.59405562,  0.91726902, -0.36010576, -0.2656758 , -0.74126691,\n",
              "        -0.62095205,  0.67722543,  0.10026695,  0.68907486, -0.01150038,\n",
              "         1.17426774, -0.06021707, -2.73999186,  0.73335112, -1.53258197,\n",
              "        -0.18357685, -0.23966648,  0.56602414, -0.61550289, -1.84340808,\n",
              "         1.43912712, -1.26016965, -1.90928835,  0.55096002,  0.74018317,\n",
              "         0.49562365,  0.64133473, -1.30148884,  1.43458435, -0.99005659,\n",
              "         0.44227151,  0.96537844, -0.94569265, -0.0210059 , -0.02538554,\n",
              "         1.26072987,  1.92518029,  0.68267587,  0.21765455,  0.2757593 ,\n",
              "        -0.46275792,  1.04795413,  1.51584921, -1.16706523, -0.34512746,\n",
              "        -0.94039848, -0.9032829 ,  1.52900692, -0.60347031,  0.2970832 ,\n",
              "        -1.5139749 ,  0.71983896,  0.70207646,  0.5116106 ,  0.50474568,\n",
              "        -2.35730527,  0.15282316,  0.72918675,  0.44647681, -2.48390533,\n",
              "        -0.79565177, -0.57593915,  0.81159144,  0.81609951, -0.23169756,\n",
              "        -0.45604671, -1.21211621, -0.2279054 , -0.51789514, -1.00774372,\n",
              "        -1.70347445, -1.51375447,  0.2412453 ,  1.44042739,  0.75636979,\n",
              "        -0.32940171,  0.41427177, -1.17036369, -0.1755954 , -1.05482157,\n",
              "        -0.29379145, -0.57447523, -0.27256037,  0.33848021, -0.02977874,\n",
              "        -0.85358436, -0.70189813, -1.28658505,  0.0333414 ,  2.45424308,\n",
              "        -1.68149453, -0.47015314,  0.72528666,  0.94374268,  0.9582829 ,\n",
              "         1.0403763 , -0.1102544 , -0.1475332 ,  0.37319426,  0.63589968,\n",
              "         1.88249029,  1.38105215,  0.13713978,  0.09639664, -1.08706302,\n",
              "         0.52169144, -0.08195884,  0.376303  ,  0.2414888 , -0.87832139,\n",
              "         1.95261929, -1.11727018,  0.13337724, -0.46481454, -0.84270108,\n",
              "        -0.25113157, -0.73634126, -1.21766151,  1.84363887, -0.634968  ],\n",
              "       [-0.37049906,  1.74096075, -0.63262154, -0.74697399, -0.29241328,\n",
              "        -1.51333592, -2.11684075, -1.04830233, -1.20621194, -0.81327195,\n",
              "        -0.64879233,  0.13398461,  0.54950362,  1.33376484, -0.02311986,\n",
              "        -0.49813406,  0.11939831, -1.38457294,  0.10160539, -1.06291499,\n",
              "        -2.83458897,  0.60318636, -0.19327626, -0.59719905, -1.06132431,\n",
              "        -1.02926417, -1.88032479, -0.40806172,  1.75642181,  0.98445034,\n",
              "         1.39070792, -1.1227179 , -1.08750974, -0.02858426,  1.55541386,\n",
              "         0.65980094, -0.91686075, -0.62299941, -0.67237743, -0.04621323,\n",
              "         1.12697466,  0.79171364,  1.08563305,  0.52657295,  1.20061287,\n",
              "        -0.11247782,  0.88739169, -2.06937057, -1.76773669,  2.25105447,\n",
              "        -0.39749672,  0.19164695, -1.10844463,  0.20338116,  1.27805273,\n",
              "        -2.21388822,  0.96476979,  1.46410913, -0.9460558 , -0.15783585,\n",
              "        -0.54759986, -0.39276179,  0.8973386 , -0.0660907 , -0.16681858,\n",
              "        -0.40428926, -0.29805745, -1.73001683,  2.05309632,  0.41887119,\n",
              "        -0.84373866, -1.07924297,  0.98397825, -0.31530338,  1.0442351 ,\n",
              "         1.67225446,  0.43676926, -0.54395315, -0.43823003, -0.51126767,\n",
              "        -0.09767418,  1.22491255, -0.26361902, -0.32046899,  0.36683732,\n",
              "        -0.63884714, -0.58574307,  1.08202787, -0.8391609 ,  0.29120252,\n",
              "        -0.29042716, -1.21243162,  1.1937303 ,  0.29012882,  0.42006534,\n",
              "        -0.51306324, -1.47805863, -0.86116796, -1.54113615,  1.4252087 ,\n",
              "         0.44354577,  0.13301192,  0.46891062, -0.47950087,  2.55073523,\n",
              "        -1.39874987, -0.55340943, -0.98536368, -0.03335491, -2.67343099,\n",
              "        -0.03609077, -0.18214858, -1.06702371,  0.65160335, -1.61554979,\n",
              "        -0.15097365,  0.53099876,  0.52045944, -1.54953053, -0.1202804 ,\n",
              "        -1.67116938, -0.89830095,  0.40782444, -1.81821861, -0.19010333,\n",
              "        -0.37497502,  1.18628655, -1.25480309, -2.60826262,  1.50691633,\n",
              "        -1.38142542,  0.22914409, -2.06677617,  0.11704608, -0.41460494,\n",
              "         0.33512263,  0.62860667, -0.07888982, -0.96140666, -0.80583387,\n",
              "         0.05314467,  1.02584694, -0.56711932,  1.08116264, -0.88836417,\n",
              "         0.126145  , -0.55481098, -0.46417333,  0.01219076, -0.0384514 ]])"
            ]
          },
          "metadata": {},
          "execution_count": 5
        }
      ]
    },
    {
      "cell_type": "code",
      "source": [
        "labels[:10] # losowo przypisane klasy"
      ],
      "metadata": {
        "colab": {
          "base_uri": "https://localhost:8080/"
        },
        "id": "30LsGYLgGLLI",
        "outputId": "21db00a2-fd61-48ca-8d0a-9cb70f6a7c50"
      },
      "execution_count": null,
      "outputs": [
        {
          "output_type": "execute_result",
          "data": {
            "text/plain": [
              "array([[0],\n",
              "       [1],\n",
              "       [0],\n",
              "       [0],\n",
              "       [0],\n",
              "       [0],\n",
              "       [0],\n",
              "       [0],\n",
              "       [0],\n",
              "       [0]])"
            ]
          },
          "metadata": {},
          "execution_count": 8
        }
      ]
    },
    {
      "cell_type": "code",
      "source": [
        "from tensorflow.keras.models import Sequential\n",
        "from tensorflow.keras.layers import Dense"
      ],
      "metadata": {
        "id": "-ojZRQDtMQqv"
      },
      "execution_count": null,
      "outputs": []
    },
    {
      "cell_type": "code",
      "source": [
        "model = Sequential()\n",
        "model.add(Dense(units=32, activation='relu', input_shape=(150,)))\n",
        "model.add(Dense(1, activation='sigmoid'))\n",
        "\n",
        "model.compile(optimizer='rmsprop',\n",
        "              loss='binary_crossentropy',\n",
        "              metrics=['accuracy'])\n",
        "\n",
        "history = model.fit(data, labels, epochs=20, batch_size=32, validation_split=0.2, verbose=1)"
      ],
      "metadata": {
        "colab": {
          "base_uri": "https://localhost:8080/"
        },
        "id": "QQO6SjlmL-yB",
        "outputId": "bc48029b-9474-492c-c1ff-c0dc6dbf9ba2"
      },
      "execution_count": null,
      "outputs": [
        {
          "output_type": "stream",
          "name": "stdout",
          "text": [
            "Epoch 1/20\n"
          ]
        },
        {
          "output_type": "stream",
          "name": "stderr",
          "text": [
            "/usr/local/lib/python3.11/dist-packages/keras/src/layers/core/dense.py:87: UserWarning: Do not pass an `input_shape`/`input_dim` argument to a layer. When using Sequential models, prefer using an `Input(shape)` object as the first layer in the model instead.\n",
            "  super().__init__(activity_regularizer=activity_regularizer, **kwargs)\n"
          ]
        },
        {
          "output_type": "stream",
          "name": "stdout",
          "text": [
            "\u001b[1m25/25\u001b[0m \u001b[32m━━━━━━━━━━━━━━━━━━━━\u001b[0m\u001b[37m\u001b[0m \u001b[1m1s\u001b[0m 14ms/step - accuracy: 0.5050 - loss: 0.7649 - val_accuracy: 0.5450 - val_loss: 0.7945\n",
            "Epoch 2/20\n",
            "\u001b[1m25/25\u001b[0m \u001b[32m━━━━━━━━━━━━━━━━━━━━\u001b[0m\u001b[37m\u001b[0m \u001b[1m0s\u001b[0m 5ms/step - accuracy: 0.5939 - loss: 0.6704 - val_accuracy: 0.5450 - val_loss: 0.7825\n",
            "Epoch 3/20\n",
            "\u001b[1m25/25\u001b[0m \u001b[32m━━━━━━━━━━━━━━━━━━━━\u001b[0m\u001b[37m\u001b[0m \u001b[1m0s\u001b[0m 6ms/step - accuracy: 0.6333 - loss: 0.6358 - val_accuracy: 0.5150 - val_loss: 0.7774\n",
            "Epoch 4/20\n",
            "\u001b[1m25/25\u001b[0m \u001b[32m━━━━━━━━━━━━━━━━━━━━\u001b[0m\u001b[37m\u001b[0m \u001b[1m0s\u001b[0m 6ms/step - accuracy: 0.6863 - loss: 0.5999 - val_accuracy: 0.5050 - val_loss: 0.7755\n",
            "Epoch 5/20\n",
            "\u001b[1m25/25\u001b[0m \u001b[32m━━━━━━━━━━━━━━━━━━━━\u001b[0m\u001b[37m\u001b[0m \u001b[1m0s\u001b[0m 5ms/step - accuracy: 0.7155 - loss: 0.5694 - val_accuracy: 0.5200 - val_loss: 0.7760\n",
            "Epoch 6/20\n",
            "\u001b[1m25/25\u001b[0m \u001b[32m━━━━━━━━━━━━━━━━━━━━\u001b[0m\u001b[37m\u001b[0m \u001b[1m0s\u001b[0m 5ms/step - accuracy: 0.7373 - loss: 0.5411 - val_accuracy: 0.5300 - val_loss: 0.7799\n",
            "Epoch 7/20\n",
            "\u001b[1m25/25\u001b[0m \u001b[32m━━━━━━━━━━━━━━━━━━━━\u001b[0m\u001b[37m\u001b[0m \u001b[1m0s\u001b[0m 5ms/step - accuracy: 0.7640 - loss: 0.5218 - val_accuracy: 0.5250 - val_loss: 0.7852\n",
            "Epoch 8/20\n",
            "\u001b[1m25/25\u001b[0m \u001b[32m━━━━━━━━━━━━━━━━━━━━\u001b[0m\u001b[37m\u001b[0m \u001b[1m0s\u001b[0m 4ms/step - accuracy: 0.8299 - loss: 0.4720 - val_accuracy: 0.5500 - val_loss: 0.7902\n",
            "Epoch 9/20\n",
            "\u001b[1m25/25\u001b[0m \u001b[32m━━━━━━━━━━━━━━━━━━━━\u001b[0m\u001b[37m\u001b[0m \u001b[1m0s\u001b[0m 4ms/step - accuracy: 0.8324 - loss: 0.4600 - val_accuracy: 0.5550 - val_loss: 0.7965\n",
            "Epoch 10/20\n",
            "\u001b[1m25/25\u001b[0m \u001b[32m━━━━━━━━━━━━━━━━━━━━\u001b[0m\u001b[37m\u001b[0m \u001b[1m0s\u001b[0m 6ms/step - accuracy: 0.8636 - loss: 0.4386 - val_accuracy: 0.5500 - val_loss: 0.8008\n",
            "Epoch 11/20\n",
            "\u001b[1m25/25\u001b[0m \u001b[32m━━━━━━━━━━━━━━━━━━━━\u001b[0m\u001b[37m\u001b[0m \u001b[1m0s\u001b[0m 5ms/step - accuracy: 0.8648 - loss: 0.4228 - val_accuracy: 0.5400 - val_loss: 0.8108\n",
            "Epoch 12/20\n",
            "\u001b[1m25/25\u001b[0m \u001b[32m━━━━━━━━━━━━━━━━━━━━\u001b[0m\u001b[37m\u001b[0m \u001b[1m0s\u001b[0m 5ms/step - accuracy: 0.9115 - loss: 0.3756 - val_accuracy: 0.5500 - val_loss: 0.8181\n",
            "Epoch 13/20\n",
            "\u001b[1m25/25\u001b[0m \u001b[32m━━━━━━━━━━━━━━━━━━━━\u001b[0m\u001b[37m\u001b[0m \u001b[1m0s\u001b[0m 5ms/step - accuracy: 0.9041 - loss: 0.3591 - val_accuracy: 0.5350 - val_loss: 0.8277\n",
            "Epoch 14/20\n",
            "\u001b[1m25/25\u001b[0m \u001b[32m━━━━━━━━━━━━━━━━━━━━\u001b[0m\u001b[37m\u001b[0m \u001b[1m0s\u001b[0m 6ms/step - accuracy: 0.9245 - loss: 0.3526 - val_accuracy: 0.5400 - val_loss: 0.8348\n",
            "Epoch 15/20\n",
            "\u001b[1m25/25\u001b[0m \u001b[32m━━━━━━━━━━━━━━━━━━━━\u001b[0m\u001b[37m\u001b[0m \u001b[1m0s\u001b[0m 5ms/step - accuracy: 0.9255 - loss: 0.3267 - val_accuracy: 0.5450 - val_loss: 0.8462\n",
            "Epoch 16/20\n",
            "\u001b[1m25/25\u001b[0m \u001b[32m━━━━━━━━━━━━━━━━━━━━\u001b[0m\u001b[37m\u001b[0m \u001b[1m0s\u001b[0m 5ms/step - accuracy: 0.9411 - loss: 0.3111 - val_accuracy: 0.5450 - val_loss: 0.8535\n",
            "Epoch 17/20\n",
            "\u001b[1m25/25\u001b[0m \u001b[32m━━━━━━━━━━━━━━━━━━━━\u001b[0m\u001b[37m\u001b[0m \u001b[1m0s\u001b[0m 5ms/step - accuracy: 0.9629 - loss: 0.2922 - val_accuracy: 0.5500 - val_loss: 0.8636\n",
            "Epoch 18/20\n",
            "\u001b[1m25/25\u001b[0m \u001b[32m━━━━━━━━━━━━━━━━━━━━\u001b[0m\u001b[37m\u001b[0m \u001b[1m0s\u001b[0m 5ms/step - accuracy: 0.9627 - loss: 0.2636 - val_accuracy: 0.5500 - val_loss: 0.8749\n",
            "Epoch 19/20\n",
            "\u001b[1m25/25\u001b[0m \u001b[32m━━━━━━━━━━━━━━━━━━━━\u001b[0m\u001b[37m\u001b[0m \u001b[1m0s\u001b[0m 5ms/step - accuracy: 0.9672 - loss: 0.2529 - val_accuracy: 0.5550 - val_loss: 0.8914\n",
            "Epoch 20/20\n",
            "\u001b[1m25/25\u001b[0m \u001b[32m━━━━━━━━━━━━━━━━━━━━\u001b[0m\u001b[37m\u001b[0m \u001b[1m0s\u001b[0m 5ms/step - accuracy: 0.9730 - loss: 0.2283 - val_accuracy: 0.5500 - val_loss: 0.9033\n"
          ]
        }
      ]
    },
    {
      "cell_type": "code",
      "source": [
        "dir(history.history)"
      ],
      "metadata": {
        "colab": {
          "base_uri": "https://localhost:8080/"
        },
        "id": "w0bjymtyMvo6",
        "outputId": "6d26273f-7994-4700-c43b-c16453c41a9b"
      },
      "execution_count": null,
      "outputs": [
        {
          "output_type": "execute_result",
          "data": {
            "text/plain": [
              "['__class__',\n",
              " '__class_getitem__',\n",
              " '__contains__',\n",
              " '__delattr__',\n",
              " '__delitem__',\n",
              " '__dir__',\n",
              " '__doc__',\n",
              " '__eq__',\n",
              " '__format__',\n",
              " '__ge__',\n",
              " '__getattribute__',\n",
              " '__getitem__',\n",
              " '__getstate__',\n",
              " '__gt__',\n",
              " '__hash__',\n",
              " '__init__',\n",
              " '__init_subclass__',\n",
              " '__ior__',\n",
              " '__iter__',\n",
              " '__le__',\n",
              " '__len__',\n",
              " '__lt__',\n",
              " '__ne__',\n",
              " '__new__',\n",
              " '__or__',\n",
              " '__reduce__',\n",
              " '__reduce_ex__',\n",
              " '__repr__',\n",
              " '__reversed__',\n",
              " '__ror__',\n",
              " '__setattr__',\n",
              " '__setitem__',\n",
              " '__sizeof__',\n",
              " '__str__',\n",
              " '__subclasshook__',\n",
              " 'clear',\n",
              " 'copy',\n",
              " 'fromkeys',\n",
              " 'get',\n",
              " 'items',\n",
              " 'keys',\n",
              " 'pop',\n",
              " 'popitem',\n",
              " 'setdefault',\n",
              " 'update',\n",
              " 'values']"
            ]
          },
          "metadata": {},
          "execution_count": 16
        }
      ]
    },
    {
      "cell_type": "markdown",
      "source": [
        "test dla mnie"
      ],
      "metadata": {
        "id": "Y-7uvZ8jNs2c"
      }
    },
    {
      "cell_type": "code",
      "source": [
        "import pandas as pd\n",
        "import numpy as np\n",
        "import tensorflow as tf\n",
        "\n",
        "from tensorflow.keras.models import Sequential\n",
        "from tensorflow.keras.layers import Dense\n",
        "from tensorflow.keras.layers import Dropout\n",
        "from tensorflow.keras.layers import Flatten\n",
        "from tensorflow.keras.datasets.mnist import load_data"
      ],
      "metadata": {
        "id": "nctzwx2WNu94"
      },
      "execution_count": 11,
      "outputs": []
    },
    {
      "cell_type": "code",
      "source": [
        "(X_train, y_train), (X_test, y_test) = load_data()"
      ],
      "metadata": {
        "id": "wL4dKjGnOHCM"
      },
      "execution_count": 22,
      "outputs": []
    },
    {
      "cell_type": "code",
      "source": [
        "print(X_train.shape, y_train.shape)\n",
        "print(X_test.shape, y_test.shape)"
      ],
      "metadata": {
        "colab": {
          "base_uri": "https://localhost:8080/"
        },
        "id": "hNZ-TZ6aONNx",
        "outputId": "54a37456-f3f0-4650-b7e9-6669a6f36be5"
      },
      "execution_count": 23,
      "outputs": [
        {
          "output_type": "stream",
          "name": "stdout",
          "text": [
            "(60000, 28, 28) (60000,)\n",
            "(10000, 28, 28) (10000,)\n"
          ]
        }
      ]
    },
    {
      "cell_type": "code",
      "source": [
        "# standaryzacja danych\n",
        "X_train = X_train / 255.\n",
        "X_test = X_test / 255."
      ],
      "metadata": {
        "id": "Y3sIQ1NYOUx_"
      },
      "execution_count": 24,
      "outputs": []
    },
    {
      "cell_type": "code",
      "source": [
        "X_test[:3]  # trzy pierwsze wiersze   ,,, X_test[3:] oznacza, że pobierasz wszystkie wiersze od indeksu 3 do końca"
      ],
      "metadata": {
        "colab": {
          "base_uri": "https://localhost:8080/"
        },
        "collapsed": true,
        "id": "O45n0VZtObVL",
        "outputId": "641eb0e3-493f-4247-a031-019af3d4e767"
      },
      "execution_count": 25,
      "outputs": [
        {
          "output_type": "execute_result",
          "data": {
            "text/plain": [
              "array([[[0., 0., 0., ..., 0., 0., 0.],\n",
              "        [0., 0., 0., ..., 0., 0., 0.],\n",
              "        [0., 0., 0., ..., 0., 0., 0.],\n",
              "        ...,\n",
              "        [0., 0., 0., ..., 0., 0., 0.],\n",
              "        [0., 0., 0., ..., 0., 0., 0.],\n",
              "        [0., 0., 0., ..., 0., 0., 0.]],\n",
              "\n",
              "       [[0., 0., 0., ..., 0., 0., 0.],\n",
              "        [0., 0., 0., ..., 0., 0., 0.],\n",
              "        [0., 0., 0., ..., 0., 0., 0.],\n",
              "        ...,\n",
              "        [0., 0., 0., ..., 0., 0., 0.],\n",
              "        [0., 0., 0., ..., 0., 0., 0.],\n",
              "        [0., 0., 0., ..., 0., 0., 0.]],\n",
              "\n",
              "       [[0., 0., 0., ..., 0., 0., 0.],\n",
              "        [0., 0., 0., ..., 0., 0., 0.],\n",
              "        [0., 0., 0., ..., 0., 0., 0.],\n",
              "        ...,\n",
              "        [0., 0., 0., ..., 0., 0., 0.],\n",
              "        [0., 0., 0., ..., 0., 0., 0.],\n",
              "        [0., 0., 0., ..., 0., 0., 0.]]])"
            ]
          },
          "metadata": {},
          "execution_count": 25
        }
      ]
    },
    {
      "cell_type": "code",
      "source": [
        "model = Sequential()\n",
        "model.add(Flatten(input_shape=(28, 28)))  # ta wartstwa ma za zadanie wypłaszczyc input do wektoru 28*28\n",
        "model.add(Dense(128, activation='relu'))\n",
        "model.add(Dropout(0.2))  # podajemy do tej wartstwy procent neuronów w warstwie które chcielibyśmy ominąc, korzystamy z tego gdy model ma duż szanse na przeuczenie\n",
        "model.add(Dense(10, activation='softmax'))\n",
        "\n",
        "model.compile(optimizer='adam',\n",
        "              loss='sparse_categorical_crossentropy',\n",
        "              metrics=['accuracy'])\n",
        "model.summary()"
      ],
      "metadata": {
        "colab": {
          "base_uri": "https://localhost:8080/",
          "height": 272
        },
        "id": "8vR_CtAaPJbo",
        "outputId": "abda4010-ca57-4be2-952b-998af03623ef"
      },
      "execution_count": 26,
      "outputs": [
        {
          "output_type": "display_data",
          "data": {
            "text/plain": [
              "\u001b[1mModel: \"sequential_3\"\u001b[0m\n"
            ],
            "text/html": [
              "<pre style=\"white-space:pre;overflow-x:auto;line-height:normal;font-family:Menlo,'DejaVu Sans Mono',consolas,'Courier New',monospace\"><span style=\"font-weight: bold\">Model: \"sequential_3\"</span>\n",
              "</pre>\n"
            ]
          },
          "metadata": {}
        },
        {
          "output_type": "display_data",
          "data": {
            "text/plain": [
              "┏━━━━━━━━━━━━━━━━━━━━━━━━━━━━━━━━━━━━━━┳━━━━━━━━━━━━━━━━━━━━━━━━━━━━━┳━━━━━━━━━━━━━━━━━┓\n",
              "┃\u001b[1m \u001b[0m\u001b[1mLayer (type)                        \u001b[0m\u001b[1m \u001b[0m┃\u001b[1m \u001b[0m\u001b[1mOutput Shape               \u001b[0m\u001b[1m \u001b[0m┃\u001b[1m \u001b[0m\u001b[1m        Param #\u001b[0m\u001b[1m \u001b[0m┃\n",
              "┡━━━━━━━━━━━━━━━━━━━━━━━━━━━━━━━━━━━━━━╇━━━━━━━━━━━━━━━━━━━━━━━━━━━━━╇━━━━━━━━━━━━━━━━━┩\n",
              "│ flatten_2 (\u001b[38;5;33mFlatten\u001b[0m)                  │ (\u001b[38;5;45mNone\u001b[0m, \u001b[38;5;34m784\u001b[0m)                 │               \u001b[38;5;34m0\u001b[0m │\n",
              "├──────────────────────────────────────┼─────────────────────────────┼─────────────────┤\n",
              "│ dense_4 (\u001b[38;5;33mDense\u001b[0m)                      │ (\u001b[38;5;45mNone\u001b[0m, \u001b[38;5;34m128\u001b[0m)                 │         \u001b[38;5;34m100,480\u001b[0m │\n",
              "├──────────────────────────────────────┼─────────────────────────────┼─────────────────┤\n",
              "│ dropout_2 (\u001b[38;5;33mDropout\u001b[0m)                  │ (\u001b[38;5;45mNone\u001b[0m, \u001b[38;5;34m128\u001b[0m)                 │               \u001b[38;5;34m0\u001b[0m │\n",
              "├──────────────────────────────────────┼─────────────────────────────┼─────────────────┤\n",
              "│ dense_5 (\u001b[38;5;33mDense\u001b[0m)                      │ (\u001b[38;5;45mNone\u001b[0m, \u001b[38;5;34m10\u001b[0m)                  │           \u001b[38;5;34m1,290\u001b[0m │\n",
              "└──────────────────────────────────────┴─────────────────────────────┴─────────────────┘\n"
            ],
            "text/html": [
              "<pre style=\"white-space:pre;overflow-x:auto;line-height:normal;font-family:Menlo,'DejaVu Sans Mono',consolas,'Courier New',monospace\">┏━━━━━━━━━━━━━━━━━━━━━━━━━━━━━━━━━━━━━━┳━━━━━━━━━━━━━━━━━━━━━━━━━━━━━┳━━━━━━━━━━━━━━━━━┓\n",
              "┃<span style=\"font-weight: bold\"> Layer (type)                         </span>┃<span style=\"font-weight: bold\"> Output Shape                </span>┃<span style=\"font-weight: bold\">         Param # </span>┃\n",
              "┡━━━━━━━━━━━━━━━━━━━━━━━━━━━━━━━━━━━━━━╇━━━━━━━━━━━━━━━━━━━━━━━━━━━━━╇━━━━━━━━━━━━━━━━━┩\n",
              "│ flatten_2 (<span style=\"color: #0087ff; text-decoration-color: #0087ff\">Flatten</span>)                  │ (<span style=\"color: #00d7ff; text-decoration-color: #00d7ff\">None</span>, <span style=\"color: #00af00; text-decoration-color: #00af00\">784</span>)                 │               <span style=\"color: #00af00; text-decoration-color: #00af00\">0</span> │\n",
              "├──────────────────────────────────────┼─────────────────────────────┼─────────────────┤\n",
              "│ dense_4 (<span style=\"color: #0087ff; text-decoration-color: #0087ff\">Dense</span>)                      │ (<span style=\"color: #00d7ff; text-decoration-color: #00d7ff\">None</span>, <span style=\"color: #00af00; text-decoration-color: #00af00\">128</span>)                 │         <span style=\"color: #00af00; text-decoration-color: #00af00\">100,480</span> │\n",
              "├──────────────────────────────────────┼─────────────────────────────┼─────────────────┤\n",
              "│ dropout_2 (<span style=\"color: #0087ff; text-decoration-color: #0087ff\">Dropout</span>)                  │ (<span style=\"color: #00d7ff; text-decoration-color: #00d7ff\">None</span>, <span style=\"color: #00af00; text-decoration-color: #00af00\">128</span>)                 │               <span style=\"color: #00af00; text-decoration-color: #00af00\">0</span> │\n",
              "├──────────────────────────────────────┼─────────────────────────────┼─────────────────┤\n",
              "│ dense_5 (<span style=\"color: #0087ff; text-decoration-color: #0087ff\">Dense</span>)                      │ (<span style=\"color: #00d7ff; text-decoration-color: #00d7ff\">None</span>, <span style=\"color: #00af00; text-decoration-color: #00af00\">10</span>)                  │           <span style=\"color: #00af00; text-decoration-color: #00af00\">1,290</span> │\n",
              "└──────────────────────────────────────┴─────────────────────────────┴─────────────────┘\n",
              "</pre>\n"
            ]
          },
          "metadata": {}
        },
        {
          "output_type": "display_data",
          "data": {
            "text/plain": [
              "\u001b[1m Total params: \u001b[0m\u001b[38;5;34m101,770\u001b[0m (397.54 KB)\n"
            ],
            "text/html": [
              "<pre style=\"white-space:pre;overflow-x:auto;line-height:normal;font-family:Menlo,'DejaVu Sans Mono',consolas,'Courier New',monospace\"><span style=\"font-weight: bold\"> Total params: </span><span style=\"color: #00af00; text-decoration-color: #00af00\">101,770</span> (397.54 KB)\n",
              "</pre>\n"
            ]
          },
          "metadata": {}
        },
        {
          "output_type": "display_data",
          "data": {
            "text/plain": [
              "\u001b[1m Trainable params: \u001b[0m\u001b[38;5;34m101,770\u001b[0m (397.54 KB)\n"
            ],
            "text/html": [
              "<pre style=\"white-space:pre;overflow-x:auto;line-height:normal;font-family:Menlo,'DejaVu Sans Mono',consolas,'Courier New',monospace\"><span style=\"font-weight: bold\"> Trainable params: </span><span style=\"color: #00af00; text-decoration-color: #00af00\">101,770</span> (397.54 KB)\n",
              "</pre>\n"
            ]
          },
          "metadata": {}
        },
        {
          "output_type": "display_data",
          "data": {
            "text/plain": [
              "\u001b[1m Non-trainable params: \u001b[0m\u001b[38;5;34m0\u001b[0m (0.00 B)\n"
            ],
            "text/html": [
              "<pre style=\"white-space:pre;overflow-x:auto;line-height:normal;font-family:Menlo,'DejaVu Sans Mono',consolas,'Courier New',monospace\"><span style=\"font-weight: bold\"> Non-trainable params: </span><span style=\"color: #00af00; text-decoration-color: #00af00\">0</span> (0.00 B)\n",
              "</pre>\n"
            ]
          },
          "metadata": {}
        }
      ]
    },
    {
      "cell_type": "code",
      "source": [
        "from tensorflow.keras.utils import to_categorical\n",
        "y_train = to_categorical(y_train, num_classes=10)\n",
        "y_train"
      ],
      "metadata": {
        "colab": {
          "base_uri": "https://localhost:8080/"
        },
        "collapsed": true,
        "id": "uMf_SbFlQWlj",
        "outputId": "2788999a-635f-47e5-c3ac-b46ce4c37ad6"
      },
      "execution_count": 19,
      "outputs": [
        {
          "output_type": "execute_result",
          "data": {
            "text/plain": [
              "array([[[1., 0., 0., ..., 0., 0., 0.],\n",
              "        [1., 0., 0., ..., 0., 0., 0.],\n",
              "        [1., 0., 0., ..., 0., 0., 0.],\n",
              "        ...,\n",
              "        [1., 0., 0., ..., 0., 0., 0.],\n",
              "        [1., 0., 0., ..., 0., 0., 0.],\n",
              "        [1., 0., 0., ..., 0., 0., 0.]],\n",
              "\n",
              "       [[0., 1., 0., ..., 0., 0., 0.],\n",
              "        [1., 0., 0., ..., 0., 0., 0.],\n",
              "        [1., 0., 0., ..., 0., 0., 0.],\n",
              "        ...,\n",
              "        [1., 0., 0., ..., 0., 0., 0.],\n",
              "        [1., 0., 0., ..., 0., 0., 0.],\n",
              "        [1., 0., 0., ..., 0., 0., 0.]],\n",
              "\n",
              "       [[1., 0., 0., ..., 0., 0., 0.],\n",
              "        [1., 0., 0., ..., 0., 0., 0.],\n",
              "        [1., 0., 0., ..., 0., 0., 0.],\n",
              "        ...,\n",
              "        [1., 0., 0., ..., 0., 0., 0.],\n",
              "        [1., 0., 0., ..., 0., 0., 0.],\n",
              "        [1., 0., 0., ..., 0., 0., 0.]],\n",
              "\n",
              "       ...,\n",
              "\n",
              "       [[1., 0., 0., ..., 0., 0., 0.],\n",
              "        [1., 0., 0., ..., 0., 0., 0.],\n",
              "        [1., 0., 0., ..., 0., 0., 0.],\n",
              "        ...,\n",
              "        [1., 0., 0., ..., 0., 0., 0.],\n",
              "        [1., 0., 0., ..., 0., 0., 0.],\n",
              "        [1., 0., 0., ..., 0., 0., 0.]],\n",
              "\n",
              "       [[1., 0., 0., ..., 0., 0., 0.],\n",
              "        [1., 0., 0., ..., 0., 0., 0.],\n",
              "        [1., 0., 0., ..., 0., 0., 0.],\n",
              "        ...,\n",
              "        [1., 0., 0., ..., 0., 0., 0.],\n",
              "        [1., 0., 0., ..., 0., 0., 0.],\n",
              "        [1., 0., 0., ..., 0., 0., 0.]],\n",
              "\n",
              "       [[1., 0., 0., ..., 0., 0., 0.],\n",
              "        [1., 0., 0., ..., 0., 0., 0.],\n",
              "        [1., 0., 0., ..., 0., 0., 0.],\n",
              "        ...,\n",
              "        [1., 0., 0., ..., 0., 0., 0.],\n",
              "        [0., 1., 0., ..., 0., 0., 0.],\n",
              "        [1., 0., 0., ..., 0., 0., 0.]]])"
            ]
          },
          "metadata": {},
          "execution_count": 19
        }
      ]
    },
    {
      "cell_type": "code",
      "source": [
        "np.unique(y_train)"
      ],
      "metadata": {
        "colab": {
          "base_uri": "https://localhost:8080/"
        },
        "id": "F5GjX6qIR6Ij",
        "outputId": "b80f552e-e0bd-4e4f-bed8-a2e20875d74d"
      },
      "execution_count": 30,
      "outputs": [
        {
          "output_type": "execute_result",
          "data": {
            "text/plain": [
              "array([0, 1, 2, 3, 4, 5, 6, 7, 8, 9], dtype=uint8)"
            ]
          },
          "metadata": {},
          "execution_count": 30
        }
      ]
    },
    {
      "cell_type": "code",
      "source": [
        "model.fit(X_train, y_train, epochs=10, validation_split=0.2, batch_size=32)"
      ],
      "metadata": {
        "colab": {
          "base_uri": "https://localhost:8080/"
        },
        "id": "nSr1gMfXQwYJ",
        "outputId": "b91e7b18-2af8-454a-863b-7876db42be4d"
      },
      "execution_count": 27,
      "outputs": [
        {
          "output_type": "stream",
          "name": "stdout",
          "text": [
            "Epoch 1/10\n",
            "\u001b[1m1500/1500\u001b[0m \u001b[32m━━━━━━━━━━━━━━━━━━━━\u001b[0m\u001b[37m\u001b[0m \u001b[1m6s\u001b[0m 3ms/step - accuracy: 0.8463 - loss: 0.5308 - val_accuracy: 0.9571 - val_loss: 0.1565\n",
            "Epoch 2/10\n",
            "\u001b[1m1500/1500\u001b[0m \u001b[32m━━━━━━━━━━━━━━━━━━━━\u001b[0m\u001b[37m\u001b[0m \u001b[1m6s\u001b[0m 4ms/step - accuracy: 0.9502 - loss: 0.1679 - val_accuracy: 0.9665 - val_loss: 0.1167\n",
            "Epoch 3/10\n",
            "\u001b[1m1500/1500\u001b[0m \u001b[32m━━━━━━━━━━━━━━━━━━━━\u001b[0m\u001b[37m\u001b[0m \u001b[1m10s\u001b[0m 4ms/step - accuracy: 0.9652 - loss: 0.1159 - val_accuracy: 0.9708 - val_loss: 0.0998\n",
            "Epoch 4/10\n",
            "\u001b[1m1500/1500\u001b[0m \u001b[32m━━━━━━━━━━━━━━━━━━━━\u001b[0m\u001b[37m\u001b[0m \u001b[1m9s\u001b[0m 3ms/step - accuracy: 0.9730 - loss: 0.0893 - val_accuracy: 0.9726 - val_loss: 0.0908\n",
            "Epoch 5/10\n",
            "\u001b[1m1500/1500\u001b[0m \u001b[32m━━━━━━━━━━━━━━━━━━━━\u001b[0m\u001b[37m\u001b[0m \u001b[1m6s\u001b[0m 4ms/step - accuracy: 0.9762 - loss: 0.0802 - val_accuracy: 0.9750 - val_loss: 0.0847\n",
            "Epoch 6/10\n",
            "\u001b[1m1500/1500\u001b[0m \u001b[32m━━━━━━━━━━━━━━━━━━━━\u001b[0m\u001b[37m\u001b[0m \u001b[1m10s\u001b[0m 4ms/step - accuracy: 0.9793 - loss: 0.0660 - val_accuracy: 0.9770 - val_loss: 0.0816\n",
            "Epoch 7/10\n",
            "\u001b[1m1500/1500\u001b[0m \u001b[32m━━━━━━━━━━━━━━━━━━━━\u001b[0m\u001b[37m\u001b[0m \u001b[1m9s\u001b[0m 3ms/step - accuracy: 0.9834 - loss: 0.0535 - val_accuracy: 0.9758 - val_loss: 0.0828\n",
            "Epoch 8/10\n",
            "\u001b[1m1500/1500\u001b[0m \u001b[32m━━━━━━━━━━━━━━━━━━━━\u001b[0m\u001b[37m\u001b[0m \u001b[1m6s\u001b[0m 4ms/step - accuracy: 0.9839 - loss: 0.0527 - val_accuracy: 0.9760 - val_loss: 0.0837\n",
            "Epoch 9/10\n",
            "\u001b[1m1500/1500\u001b[0m \u001b[32m━━━━━━━━━━━━━━━━━━━━\u001b[0m\u001b[37m\u001b[0m \u001b[1m10s\u001b[0m 4ms/step - accuracy: 0.9853 - loss: 0.0471 - val_accuracy: 0.9750 - val_loss: 0.0861\n",
            "Epoch 10/10\n",
            "\u001b[1m1500/1500\u001b[0m \u001b[32m━━━━━━━━━━━━━━━━━━━━\u001b[0m\u001b[37m\u001b[0m \u001b[1m9s\u001b[0m 3ms/step - accuracy: 0.9872 - loss: 0.0407 - val_accuracy: 0.9762 - val_loss: 0.0852\n"
          ]
        },
        {
          "output_type": "execute_result",
          "data": {
            "text/plain": [
              "<keras.src.callbacks.history.History at 0x7cca56ccaf90>"
            ]
          },
          "metadata": {},
          "execution_count": 27
        }
      ]
    },
    {
      "cell_type": "code",
      "source": [
        "model.layers"
      ],
      "metadata": {
        "colab": {
          "base_uri": "https://localhost:8080/"
        },
        "id": "EW4sY0kVSKIu",
        "outputId": "18c16dbd-c42d-48a3-954a-dc00657c845a"
      },
      "execution_count": 31,
      "outputs": [
        {
          "output_type": "execute_result",
          "data": {
            "text/plain": [
              "[<Flatten name=flatten_2, built=True>,\n",
              " <Dense name=dense_4, built=True>,\n",
              " <Dropout name=dropout_2, built=True>,\n",
              " <Dense name=dense_5, built=True>]"
            ]
          },
          "metadata": {},
          "execution_count": 31
        }
      ]
    },
    {
      "cell_type": "code",
      "source": [
        "model.inputs"
      ],
      "metadata": {
        "colab": {
          "base_uri": "https://localhost:8080/"
        },
        "id": "ogQ-N5VDSM1r",
        "outputId": "19878834-7df5-4e28-ca69-50848ddfed5b"
      },
      "execution_count": 33,
      "outputs": [
        {
          "output_type": "execute_result",
          "data": {
            "text/plain": [
              "[<KerasTensor shape=(None, 28, 28), dtype=float32, sparse=False, name=keras_tensor_22>]"
            ]
          },
          "metadata": {},
          "execution_count": 33
        }
      ]
    },
    {
      "cell_type": "code",
      "source": [
        "model.outputs   # 10 tak naprawde oznacza liczbe klas"
      ],
      "metadata": {
        "colab": {
          "base_uri": "https://localhost:8080/"
        },
        "id": "v0S0l6a1ScT1",
        "outputId": "2ee51217-92b0-4ba6-8521-06a0d6b7b33d"
      },
      "execution_count": 34,
      "outputs": [
        {
          "output_type": "execute_result",
          "data": {
            "text/plain": [
              "[<KerasTensor shape=(None, 10), dtype=float32, sparse=False, name=keras_tensor_32>]"
            ]
          },
          "metadata": {},
          "execution_count": 34
        }
      ]
    },
    {
      "cell_type": "code",
      "source": [
        "model.get_config()"
      ],
      "metadata": {
        "colab": {
          "base_uri": "https://localhost:8080/"
        },
        "id": "H5FqdEi9SpHg",
        "outputId": "06139454-5319-4422-fc66-d6a846efe639"
      },
      "execution_count": 35,
      "outputs": [
        {
          "output_type": "execute_result",
          "data": {
            "text/plain": [
              "{'name': 'sequential_3',\n",
              " 'trainable': True,\n",
              " 'dtype': {'module': 'keras',\n",
              "  'class_name': 'DTypePolicy',\n",
              "  'config': {'name': 'float32'},\n",
              "  'registered_name': None},\n",
              " 'layers': [{'module': 'keras.layers',\n",
              "   'class_name': 'InputLayer',\n",
              "   'config': {'batch_shape': (None, 28, 28),\n",
              "    'dtype': 'float32',\n",
              "    'sparse': False,\n",
              "    'name': 'input_layer_2'},\n",
              "   'registered_name': None},\n",
              "  {'module': 'keras.layers',\n",
              "   'class_name': 'Flatten',\n",
              "   'config': {'name': 'flatten_2',\n",
              "    'trainable': True,\n",
              "    'dtype': {'module': 'keras',\n",
              "     'class_name': 'DTypePolicy',\n",
              "     'config': {'name': 'float32'},\n",
              "     'registered_name': None},\n",
              "    'data_format': 'channels_last'},\n",
              "   'registered_name': None,\n",
              "   'build_config': {'input_shape': (None, 28, 28)}},\n",
              "  {'module': 'keras.layers',\n",
              "   'class_name': 'Dense',\n",
              "   'config': {'name': 'dense_4',\n",
              "    'trainable': True,\n",
              "    'dtype': {'module': 'keras',\n",
              "     'class_name': 'DTypePolicy',\n",
              "     'config': {'name': 'float32'},\n",
              "     'registered_name': None},\n",
              "    'units': 128,\n",
              "    'activation': 'relu',\n",
              "    'use_bias': True,\n",
              "    'kernel_initializer': {'module': 'keras.initializers',\n",
              "     'class_name': 'GlorotUniform',\n",
              "     'config': {'seed': None},\n",
              "     'registered_name': None},\n",
              "    'bias_initializer': {'module': 'keras.initializers',\n",
              "     'class_name': 'Zeros',\n",
              "     'config': {},\n",
              "     'registered_name': None},\n",
              "    'kernel_regularizer': None,\n",
              "    'bias_regularizer': None,\n",
              "    'kernel_constraint': None,\n",
              "    'bias_constraint': None},\n",
              "   'registered_name': None,\n",
              "   'build_config': {'input_shape': (None, 784)}},\n",
              "  {'module': 'keras.layers',\n",
              "   'class_name': 'Dropout',\n",
              "   'config': {'name': 'dropout_2',\n",
              "    'trainable': True,\n",
              "    'dtype': {'module': 'keras',\n",
              "     'class_name': 'DTypePolicy',\n",
              "     'config': {'name': 'float32'},\n",
              "     'registered_name': None},\n",
              "    'rate': 0.2,\n",
              "    'seed': None,\n",
              "    'noise_shape': None},\n",
              "   'registered_name': None},\n",
              "  {'module': 'keras.layers',\n",
              "   'class_name': 'Dense',\n",
              "   'config': {'name': 'dense_5',\n",
              "    'trainable': True,\n",
              "    'dtype': {'module': 'keras',\n",
              "     'class_name': 'DTypePolicy',\n",
              "     'config': {'name': 'float32'},\n",
              "     'registered_name': None},\n",
              "    'units': 10,\n",
              "    'activation': 'softmax',\n",
              "    'use_bias': True,\n",
              "    'kernel_initializer': {'module': 'keras.initializers',\n",
              "     'class_name': 'GlorotUniform',\n",
              "     'config': {'seed': None},\n",
              "     'registered_name': None},\n",
              "    'bias_initializer': {'module': 'keras.initializers',\n",
              "     'class_name': 'Zeros',\n",
              "     'config': {},\n",
              "     'registered_name': None},\n",
              "    'kernel_regularizer': None,\n",
              "    'bias_regularizer': None,\n",
              "    'kernel_constraint': None,\n",
              "    'bias_constraint': None},\n",
              "   'registered_name': None,\n",
              "   'build_config': {'input_shape': (None, 128)}}],\n",
              " 'build_input_shape': (None, 28, 28)}"
            ]
          },
          "metadata": {},
          "execution_count": 35
        }
      ]
    },
    {
      "cell_type": "code",
      "source": [
        "model.get_weights()"
      ],
      "metadata": {
        "colab": {
          "base_uri": "https://localhost:8080/"
        },
        "id": "BUua0xV_Svue",
        "outputId": "4619bca8-45de-4a1a-b154-0724359eff21"
      },
      "execution_count": 37,
      "outputs": [
        {
          "output_type": "execute_result",
          "data": {
            "text/plain": [
              "[array([[ 0.0140912 ,  0.07268339, -0.076086  , ..., -0.0022305 ,\n",
              "          0.03065453, -0.01554029],\n",
              "        [-0.02783644,  0.02474245, -0.01552618, ...,  0.08108059,\n",
              "          0.0298747 ,  0.01638227],\n",
              "        [-0.0742881 ,  0.0678762 ,  0.03148948, ..., -0.04985476,\n",
              "          0.07828299, -0.03036622],\n",
              "        ...,\n",
              "        [-0.04237892, -0.00688968, -0.07784406, ..., -0.07389165,\n",
              "         -0.05835407, -0.00855799],\n",
              "        [-0.06285183,  0.03592762, -0.02292631, ...,  0.00739726,\n",
              "         -0.04859579, -0.03209991],\n",
              "        [ 0.01577087,  0.04973576, -0.00111949, ...,  0.05600948,\n",
              "          0.00276218, -0.03005263]], dtype=float32),\n",
              " array([-1.80539057e-01, -1.27168735e-02, -1.60717264e-01,  1.08258940e-01,\n",
              "        -1.17650849e-03,  1.66822255e-01,  5.81904538e-02, -1.39237791e-01,\n",
              "        -1.80700481e-01, -5.30861467e-02, -4.97758575e-02, -3.56813520e-02,\n",
              "         8.32683071e-02, -4.85319272e-03,  1.40254214e-01,  1.27777234e-01,\n",
              "         1.62543684e-01,  1.14826985e-01,  8.37357342e-03, -5.42544164e-02,\n",
              "        -1.10851765e-01,  1.73004851e-01, -6.71074633e-03,  7.89158121e-02,\n",
              "        -4.01908197e-02, -1.15487888e-01,  1.75105873e-02,  2.55293220e-01,\n",
              "         4.17000540e-02, -1.64629202e-02, -2.42706537e-02,  4.77164425e-02,\n",
              "        -1.68230832e-02, -1.61108971e-02, -2.88209524e-02,  4.42027599e-02,\n",
              "         1.87376738e-02,  2.23169979e-02,  6.39989227e-02,  1.33361101e-01,\n",
              "        -1.41889718e-03,  2.96405047e-01, -9.24602598e-02, -4.92772497e-02,\n",
              "         1.40777424e-01, -3.84778492e-02, -2.73572113e-02, -8.77204165e-02,\n",
              "        -1.54955044e-01,  1.65570702e-04,  3.77804562e-02,  1.35870829e-01,\n",
              "         1.10886492e-01,  5.20903394e-02,  6.83305087e-04,  2.17971876e-01,\n",
              "         4.95768851e-03,  1.07974261e-01, -5.49788661e-02, -2.05473267e-02,\n",
              "         3.56121920e-02, -3.54463533e-02, -3.75721455e-02,  3.89836356e-02,\n",
              "         5.99046648e-02, -9.01241153e-02,  1.14741951e-01, -1.91134676e-01,\n",
              "         8.24599862e-02,  9.91427619e-03, -1.69742201e-02, -1.92167133e-01,\n",
              "         1.83925346e-01,  1.19135268e-01,  1.65589705e-01, -1.79718301e-01,\n",
              "         4.29463424e-02,  5.01921587e-02,  1.27912059e-01,  1.13958828e-01,\n",
              "         1.26315549e-01, -1.34253249e-01,  1.44667253e-01, -5.21518029e-02,\n",
              "         2.09799021e-01,  1.77348480e-01,  3.51680443e-02,  6.59467205e-02,\n",
              "        -1.02031104e-01,  5.77177629e-02, -7.14622512e-02,  1.61479637e-01,\n",
              "         1.54383063e-01,  3.18778940e-02, -1.14355497e-01, -1.32091939e-02,\n",
              "        -6.11010194e-02,  2.29493514e-01, -4.39409055e-02,  1.28920093e-01,\n",
              "         5.50795905e-02,  1.67970479e-01, -5.21505997e-02, -5.67335002e-02,\n",
              "        -9.41001112e-04, -5.03868051e-02, -1.81550905e-01,  1.04864854e-02,\n",
              "         1.29904583e-01, -1.07033672e-02,  9.05861035e-02,  2.32777297e-02,\n",
              "        -6.47159107e-03, -2.01529190e-02, -9.46803093e-02, -7.67117292e-02,\n",
              "         4.77039702e-02,  1.38563260e-01,  2.94161607e-02, -8.00999627e-02,\n",
              "         6.79644644e-02, -8.97221193e-02, -1.24479987e-01,  2.52793785e-02,\n",
              "         2.06849165e-02,  8.07951167e-02,  2.09442675e-01, -1.07380159e-01],\n",
              "       dtype=float32),\n",
              " array([[ 0.10283855,  0.15539621,  0.34872282, ..., -0.4395286 ,\n",
              "          0.18823935,  0.10975669],\n",
              "        [-0.5838731 , -0.00186606, -0.541534  , ..., -0.43520242,\n",
              "          0.24776125,  0.17989635],\n",
              "        [ 0.06274004,  0.14864302, -0.23968802, ..., -0.29843083,\n",
              "          0.18792331, -0.09212373],\n",
              "        ...,\n",
              "        [ 0.18854414, -0.09139509,  0.29038522, ..., -0.31354675,\n",
              "          0.1000109 , -0.4592914 ],\n",
              "        [-0.49667674, -0.5379582 ,  0.23383047, ..., -0.14388604,\n",
              "          0.1071993 , -0.887534  ],\n",
              "        [ 0.01942405, -0.3421195 ,  0.14220597, ..., -0.16424578,\n",
              "          0.21665612,  0.14988165]], dtype=float32),\n",
              " array([-0.07515904, -0.07039481, -0.06327949, -0.13121341,  0.16513526,\n",
              "        -0.07283846, -0.04532351, -0.14166246,  0.33823088,  0.01136702],\n",
              "       dtype=float32)]"
            ]
          },
          "metadata": {},
          "execution_count": 37
        }
      ]
    },
    {
      "cell_type": "code",
      "source": [
        "model.get_weights()[0].shape"
      ],
      "metadata": {
        "colab": {
          "base_uri": "https://localhost:8080/"
        },
        "id": "RO4KUf8dS1aP",
        "outputId": "e0398a8c-d787-459a-9295-9853dc5f9525"
      },
      "execution_count": 38,
      "outputs": [
        {
          "output_type": "execute_result",
          "data": {
            "text/plain": [
              "(784, 128)"
            ]
          },
          "metadata": {},
          "execution_count": 38
        }
      ]
    },
    {
      "cell_type": "code",
      "source": [
        "model.get_weights()[1].shape"
      ],
      "metadata": {
        "colab": {
          "base_uri": "https://localhost:8080/"
        },
        "id": "T0s_YBtWTtlm",
        "outputId": "035f35e3-b994-4255-df47-e50a95ced953"
      },
      "execution_count": 39,
      "outputs": [
        {
          "output_type": "execute_result",
          "data": {
            "text/plain": [
              "(128,)"
            ]
          },
          "metadata": {},
          "execution_count": 39
        }
      ]
    },
    {
      "cell_type": "code",
      "source": [
        "model.get_weights()[2].shape"
      ],
      "metadata": {
        "colab": {
          "base_uri": "https://localhost:8080/"
        },
        "id": "bLjxYfBCT2sW",
        "outputId": "34755e22-c775-46de-8a53-183d1166b7a4"
      },
      "execution_count": 40,
      "outputs": [
        {
          "output_type": "execute_result",
          "data": {
            "text/plain": [
              "(128, 10)"
            ]
          },
          "metadata": {},
          "execution_count": 40
        }
      ]
    },
    {
      "cell_type": "code",
      "source": [
        "model.get_weights()[3].shape"
      ],
      "metadata": {
        "colab": {
          "base_uri": "https://localhost:8080/"
        },
        "id": "Uap4UCd2T4tI",
        "outputId": "3ebdbbe2-da93-42f0-c67f-4e1bc5b1ff43"
      },
      "execution_count": 42,
      "outputs": [
        {
          "output_type": "execute_result",
          "data": {
            "text/plain": [
              "(10,)"
            ]
          },
          "metadata": {},
          "execution_count": 42
        }
      ]
    },
    {
      "cell_type": "markdown",
      "source": [
        "JSON"
      ],
      "metadata": {
        "id": "Jq81tJ3EUHEa"
      }
    },
    {
      "cell_type": "code",
      "source": [
        "model_json = model.to_json()\n",
        "\n",
        "import json\n",
        "parsed = json.loads(model_json)\n",
        "print(json.dumps(parsed, indent=4))"
      ],
      "metadata": {
        "colab": {
          "base_uri": "https://localhost:8080/"
        },
        "id": "Nejlfm4tT9bI",
        "outputId": "383edc19-8ca8-48f2-d103-1e0e044be4cf"
      },
      "execution_count": 43,
      "outputs": [
        {
          "output_type": "stream",
          "name": "stdout",
          "text": [
            "{\n",
            "    \"module\": \"keras\",\n",
            "    \"class_name\": \"Sequential\",\n",
            "    \"config\": {\n",
            "        \"name\": \"sequential_3\",\n",
            "        \"trainable\": true,\n",
            "        \"dtype\": {\n",
            "            \"module\": \"keras\",\n",
            "            \"class_name\": \"DTypePolicy\",\n",
            "            \"config\": {\n",
            "                \"name\": \"float32\"\n",
            "            },\n",
            "            \"registered_name\": null\n",
            "        },\n",
            "        \"layers\": [\n",
            "            {\n",
            "                \"module\": \"keras.layers\",\n",
            "                \"class_name\": \"InputLayer\",\n",
            "                \"config\": {\n",
            "                    \"batch_shape\": [\n",
            "                        null,\n",
            "                        28,\n",
            "                        28\n",
            "                    ],\n",
            "                    \"dtype\": \"float32\",\n",
            "                    \"sparse\": false,\n",
            "                    \"name\": \"input_layer_2\"\n",
            "                },\n",
            "                \"registered_name\": null\n",
            "            },\n",
            "            {\n",
            "                \"module\": \"keras.layers\",\n",
            "                \"class_name\": \"Flatten\",\n",
            "                \"config\": {\n",
            "                    \"name\": \"flatten_2\",\n",
            "                    \"trainable\": true,\n",
            "                    \"dtype\": {\n",
            "                        \"module\": \"keras\",\n",
            "                        \"class_name\": \"DTypePolicy\",\n",
            "                        \"config\": {\n",
            "                            \"name\": \"float32\"\n",
            "                        },\n",
            "                        \"registered_name\": null\n",
            "                    },\n",
            "                    \"data_format\": \"channels_last\"\n",
            "                },\n",
            "                \"registered_name\": null,\n",
            "                \"build_config\": {\n",
            "                    \"input_shape\": [\n",
            "                        null,\n",
            "                        28,\n",
            "                        28\n",
            "                    ]\n",
            "                }\n",
            "            },\n",
            "            {\n",
            "                \"module\": \"keras.layers\",\n",
            "                \"class_name\": \"Dense\",\n",
            "                \"config\": {\n",
            "                    \"name\": \"dense_4\",\n",
            "                    \"trainable\": true,\n",
            "                    \"dtype\": {\n",
            "                        \"module\": \"keras\",\n",
            "                        \"class_name\": \"DTypePolicy\",\n",
            "                        \"config\": {\n",
            "                            \"name\": \"float32\"\n",
            "                        },\n",
            "                        \"registered_name\": null\n",
            "                    },\n",
            "                    \"units\": 128,\n",
            "                    \"activation\": \"relu\",\n",
            "                    \"use_bias\": true,\n",
            "                    \"kernel_initializer\": {\n",
            "                        \"module\": \"keras.initializers\",\n",
            "                        \"class_name\": \"GlorotUniform\",\n",
            "                        \"config\": {\n",
            "                            \"seed\": null\n",
            "                        },\n",
            "                        \"registered_name\": null\n",
            "                    },\n",
            "                    \"bias_initializer\": {\n",
            "                        \"module\": \"keras.initializers\",\n",
            "                        \"class_name\": \"Zeros\",\n",
            "                        \"config\": {},\n",
            "                        \"registered_name\": null\n",
            "                    },\n",
            "                    \"kernel_regularizer\": null,\n",
            "                    \"bias_regularizer\": null,\n",
            "                    \"kernel_constraint\": null,\n",
            "                    \"bias_constraint\": null\n",
            "                },\n",
            "                \"registered_name\": null,\n",
            "                \"build_config\": {\n",
            "                    \"input_shape\": [\n",
            "                        null,\n",
            "                        784\n",
            "                    ]\n",
            "                }\n",
            "            },\n",
            "            {\n",
            "                \"module\": \"keras.layers\",\n",
            "                \"class_name\": \"Dropout\",\n",
            "                \"config\": {\n",
            "                    \"name\": \"dropout_2\",\n",
            "                    \"trainable\": true,\n",
            "                    \"dtype\": {\n",
            "                        \"module\": \"keras\",\n",
            "                        \"class_name\": \"DTypePolicy\",\n",
            "                        \"config\": {\n",
            "                            \"name\": \"float32\"\n",
            "                        },\n",
            "                        \"registered_name\": null\n",
            "                    },\n",
            "                    \"rate\": 0.2,\n",
            "                    \"seed\": null,\n",
            "                    \"noise_shape\": null\n",
            "                },\n",
            "                \"registered_name\": null\n",
            "            },\n",
            "            {\n",
            "                \"module\": \"keras.layers\",\n",
            "                \"class_name\": \"Dense\",\n",
            "                \"config\": {\n",
            "                    \"name\": \"dense_5\",\n",
            "                    \"trainable\": true,\n",
            "                    \"dtype\": {\n",
            "                        \"module\": \"keras\",\n",
            "                        \"class_name\": \"DTypePolicy\",\n",
            "                        \"config\": {\n",
            "                            \"name\": \"float32\"\n",
            "                        },\n",
            "                        \"registered_name\": null\n",
            "                    },\n",
            "                    \"units\": 10,\n",
            "                    \"activation\": \"softmax\",\n",
            "                    \"use_bias\": true,\n",
            "                    \"kernel_initializer\": {\n",
            "                        \"module\": \"keras.initializers\",\n",
            "                        \"class_name\": \"GlorotUniform\",\n",
            "                        \"config\": {\n",
            "                            \"seed\": null\n",
            "                        },\n",
            "                        \"registered_name\": null\n",
            "                    },\n",
            "                    \"bias_initializer\": {\n",
            "                        \"module\": \"keras.initializers\",\n",
            "                        \"class_name\": \"Zeros\",\n",
            "                        \"config\": {},\n",
            "                        \"registered_name\": null\n",
            "                    },\n",
            "                    \"kernel_regularizer\": null,\n",
            "                    \"bias_regularizer\": null,\n",
            "                    \"kernel_constraint\": null,\n",
            "                    \"bias_constraint\": null\n",
            "                },\n",
            "                \"registered_name\": null,\n",
            "                \"build_config\": {\n",
            "                    \"input_shape\": [\n",
            "                        null,\n",
            "                        128\n",
            "                    ]\n",
            "                }\n",
            "            }\n",
            "        ],\n",
            "        \"build_input_shape\": [\n",
            "            null,\n",
            "            28,\n",
            "            28\n",
            "        ]\n",
            "    },\n",
            "    \"registered_name\": null,\n",
            "    \"build_config\": {\n",
            "        \"input_shape\": [\n",
            "            null,\n",
            "            28,\n",
            "            28\n",
            "        ]\n",
            "    },\n",
            "    \"compile_config\": {\n",
            "        \"optimizer\": {\n",
            "            \"module\": \"keras.optimizers\",\n",
            "            \"class_name\": \"Adam\",\n",
            "            \"config\": {\n",
            "                \"name\": \"adam\",\n",
            "                \"learning_rate\": 0.0010000000474974513,\n",
            "                \"weight_decay\": null,\n",
            "                \"clipnorm\": null,\n",
            "                \"global_clipnorm\": null,\n",
            "                \"clipvalue\": null,\n",
            "                \"use_ema\": false,\n",
            "                \"ema_momentum\": 0.99,\n",
            "                \"ema_overwrite_frequency\": null,\n",
            "                \"loss_scale_factor\": null,\n",
            "                \"gradient_accumulation_steps\": null,\n",
            "                \"beta_1\": 0.9,\n",
            "                \"beta_2\": 0.999,\n",
            "                \"epsilon\": 1e-07,\n",
            "                \"amsgrad\": false\n",
            "            },\n",
            "            \"registered_name\": null\n",
            "        },\n",
            "        \"loss\": \"sparse_categorical_crossentropy\",\n",
            "        \"loss_weights\": null,\n",
            "        \"metrics\": [\n",
            "            \"accuracy\"\n",
            "        ],\n",
            "        \"weighted_metrics\": null,\n",
            "        \"run_eagerly\": false,\n",
            "        \"steps_per_execution\": 1,\n",
            "        \"jit_compile\": false\n",
            "    }\n",
            "}\n"
          ]
        }
      ]
    },
    {
      "cell_type": "code",
      "source": [
        "from tensorflow.keras.models import model_from_json\n",
        "\n",
        "model2 = model_from_json(model_json)\n",
        "model2.summary()"
      ],
      "metadata": {
        "colab": {
          "base_uri": "https://localhost:8080/",
          "height": 289
        },
        "id": "AJinju99U22e",
        "outputId": "86e8f585-7986-4d57-ea79-ed102e35286e"
      },
      "execution_count": 45,
      "outputs": [
        {
          "output_type": "display_data",
          "data": {
            "text/plain": [
              "\u001b[1mModel: \"sequential_3\"\u001b[0m\n"
            ],
            "text/html": [
              "<pre style=\"white-space:pre;overflow-x:auto;line-height:normal;font-family:Menlo,'DejaVu Sans Mono',consolas,'Courier New',monospace\"><span style=\"font-weight: bold\">Model: \"sequential_3\"</span>\n",
              "</pre>\n"
            ]
          },
          "metadata": {}
        },
        {
          "output_type": "display_data",
          "data": {
            "text/plain": [
              "┏━━━━━━━━━━━━━━━━━━━━━━━━━━━━━━━━━━━━━━┳━━━━━━━━━━━━━━━━━━━━━━━━━━━━━┳━━━━━━━━━━━━━━━━━┓\n",
              "┃\u001b[1m \u001b[0m\u001b[1mLayer (type)                        \u001b[0m\u001b[1m \u001b[0m┃\u001b[1m \u001b[0m\u001b[1mOutput Shape               \u001b[0m\u001b[1m \u001b[0m┃\u001b[1m \u001b[0m\u001b[1m        Param #\u001b[0m\u001b[1m \u001b[0m┃\n",
              "┡━━━━━━━━━━━━━━━━━━━━━━━━━━━━━━━━━━━━━━╇━━━━━━━━━━━━━━━━━━━━━━━━━━━━━╇━━━━━━━━━━━━━━━━━┩\n",
              "│ flatten_2 (\u001b[38;5;33mFlatten\u001b[0m)                  │ (\u001b[38;5;45mNone\u001b[0m, \u001b[38;5;34m784\u001b[0m)                 │               \u001b[38;5;34m0\u001b[0m │\n",
              "├──────────────────────────────────────┼─────────────────────────────┼─────────────────┤\n",
              "│ dense_4 (\u001b[38;5;33mDense\u001b[0m)                      │ (\u001b[38;5;45mNone\u001b[0m, \u001b[38;5;34m128\u001b[0m)                 │         \u001b[38;5;34m100,480\u001b[0m │\n",
              "├──────────────────────────────────────┼─────────────────────────────┼─────────────────┤\n",
              "│ dropout_2 (\u001b[38;5;33mDropout\u001b[0m)                  │ (\u001b[38;5;45mNone\u001b[0m, \u001b[38;5;34m128\u001b[0m)                 │               \u001b[38;5;34m0\u001b[0m │\n",
              "├──────────────────────────────────────┼─────────────────────────────┼─────────────────┤\n",
              "│ dense_5 (\u001b[38;5;33mDense\u001b[0m)                      │ (\u001b[38;5;45mNone\u001b[0m, \u001b[38;5;34m10\u001b[0m)                  │           \u001b[38;5;34m1,290\u001b[0m │\n",
              "└──────────────────────────────────────┴─────────────────────────────┴─────────────────┘\n"
            ],
            "text/html": [
              "<pre style=\"white-space:pre;overflow-x:auto;line-height:normal;font-family:Menlo,'DejaVu Sans Mono',consolas,'Courier New',monospace\">┏━━━━━━━━━━━━━━━━━━━━━━━━━━━━━━━━━━━━━━┳━━━━━━━━━━━━━━━━━━━━━━━━━━━━━┳━━━━━━━━━━━━━━━━━┓\n",
              "┃<span style=\"font-weight: bold\"> Layer (type)                         </span>┃<span style=\"font-weight: bold\"> Output Shape                </span>┃<span style=\"font-weight: bold\">         Param # </span>┃\n",
              "┡━━━━━━━━━━━━━━━━━━━━━━━━━━━━━━━━━━━━━━╇━━━━━━━━━━━━━━━━━━━━━━━━━━━━━╇━━━━━━━━━━━━━━━━━┩\n",
              "│ flatten_2 (<span style=\"color: #0087ff; text-decoration-color: #0087ff\">Flatten</span>)                  │ (<span style=\"color: #00d7ff; text-decoration-color: #00d7ff\">None</span>, <span style=\"color: #00af00; text-decoration-color: #00af00\">784</span>)                 │               <span style=\"color: #00af00; text-decoration-color: #00af00\">0</span> │\n",
              "├──────────────────────────────────────┼─────────────────────────────┼─────────────────┤\n",
              "│ dense_4 (<span style=\"color: #0087ff; text-decoration-color: #0087ff\">Dense</span>)                      │ (<span style=\"color: #00d7ff; text-decoration-color: #00d7ff\">None</span>, <span style=\"color: #00af00; text-decoration-color: #00af00\">128</span>)                 │         <span style=\"color: #00af00; text-decoration-color: #00af00\">100,480</span> │\n",
              "├──────────────────────────────────────┼─────────────────────────────┼─────────────────┤\n",
              "│ dropout_2 (<span style=\"color: #0087ff; text-decoration-color: #0087ff\">Dropout</span>)                  │ (<span style=\"color: #00d7ff; text-decoration-color: #00d7ff\">None</span>, <span style=\"color: #00af00; text-decoration-color: #00af00\">128</span>)                 │               <span style=\"color: #00af00; text-decoration-color: #00af00\">0</span> │\n",
              "├──────────────────────────────────────┼─────────────────────────────┼─────────────────┤\n",
              "│ dense_5 (<span style=\"color: #0087ff; text-decoration-color: #0087ff\">Dense</span>)                      │ (<span style=\"color: #00d7ff; text-decoration-color: #00d7ff\">None</span>, <span style=\"color: #00af00; text-decoration-color: #00af00\">10</span>)                  │           <span style=\"color: #00af00; text-decoration-color: #00af00\">1,290</span> │\n",
              "└──────────────────────────────────────┴─────────────────────────────┴─────────────────┘\n",
              "</pre>\n"
            ]
          },
          "metadata": {}
        },
        {
          "output_type": "display_data",
          "data": {
            "text/plain": [
              "\u001b[1m Total params: \u001b[0m\u001b[38;5;34m305,312\u001b[0m (1.16 MB)\n"
            ],
            "text/html": [
              "<pre style=\"white-space:pre;overflow-x:auto;line-height:normal;font-family:Menlo,'DejaVu Sans Mono',consolas,'Courier New',monospace\"><span style=\"font-weight: bold\"> Total params: </span><span style=\"color: #00af00; text-decoration-color: #00af00\">305,312</span> (1.16 MB)\n",
              "</pre>\n"
            ]
          },
          "metadata": {}
        },
        {
          "output_type": "display_data",
          "data": {
            "text/plain": [
              "\u001b[1m Trainable params: \u001b[0m\u001b[38;5;34m101,770\u001b[0m (397.54 KB)\n"
            ],
            "text/html": [
              "<pre style=\"white-space:pre;overflow-x:auto;line-height:normal;font-family:Menlo,'DejaVu Sans Mono',consolas,'Courier New',monospace\"><span style=\"font-weight: bold\"> Trainable params: </span><span style=\"color: #00af00; text-decoration-color: #00af00\">101,770</span> (397.54 KB)\n",
              "</pre>\n"
            ]
          },
          "metadata": {}
        },
        {
          "output_type": "display_data",
          "data": {
            "text/plain": [
              "\u001b[1m Non-trainable params: \u001b[0m\u001b[38;5;34m0\u001b[0m (0.00 B)\n"
            ],
            "text/html": [
              "<pre style=\"white-space:pre;overflow-x:auto;line-height:normal;font-family:Menlo,'DejaVu Sans Mono',consolas,'Courier New',monospace\"><span style=\"font-weight: bold\"> Non-trainable params: </span><span style=\"color: #00af00; text-decoration-color: #00af00\">0</span> (0.00 B)\n",
              "</pre>\n"
            ]
          },
          "metadata": {}
        },
        {
          "output_type": "display_data",
          "data": {
            "text/plain": [
              "\u001b[1m Optimizer params: \u001b[0m\u001b[38;5;34m203,542\u001b[0m (795.09 KB)\n"
            ],
            "text/html": [
              "<pre style=\"white-space:pre;overflow-x:auto;line-height:normal;font-family:Menlo,'DejaVu Sans Mono',consolas,'Courier New',monospace\"><span style=\"font-weight: bold\"> Optimizer params: </span><span style=\"color: #00af00; text-decoration-color: #00af00\">203,542</span> (795.09 KB)\n",
              "</pre>\n"
            ]
          },
          "metadata": {}
        }
      ]
    },
    {
      "cell_type": "markdown",
      "source": [
        "## yaml"
      ],
      "metadata": {
        "id": "FapTozaoVLqu"
      }
    },
    {
      "cell_type": "code",
      "source": [
        "model_yaml = model.to_yaml()\n",
        "print(model_yaml)"
      ],
      "metadata": {
        "colab": {
          "base_uri": "https://localhost:8080/",
          "height": 159
        },
        "id": "Flzi1Z5LVNsw",
        "outputId": "74fcc5e2-d755-466a-c3ed-b5d90608930c"
      },
      "execution_count": 48,
      "outputs": [
        {
          "output_type": "error",
          "ename": "AttributeError",
          "evalue": "'Sequential' object has no attribute 'to_yaml'",
          "traceback": [
            "\u001b[0;31m---------------------------------------------------------------------------\u001b[0m",
            "\u001b[0;31mAttributeError\u001b[0m                            Traceback (most recent call last)",
            "\u001b[0;32m<ipython-input-48-937afef17c5b>\u001b[0m in \u001b[0;36m<cell line: 0>\u001b[0;34m()\u001b[0m\n\u001b[0;32m----> 1\u001b[0;31m \u001b[0mmodel_yaml\u001b[0m \u001b[0;34m=\u001b[0m \u001b[0mmodel\u001b[0m\u001b[0;34m.\u001b[0m\u001b[0mto_yaml\u001b[0m\u001b[0;34m(\u001b[0m\u001b[0;34m)\u001b[0m\u001b[0;34m\u001b[0m\u001b[0;34m\u001b[0m\u001b[0m\n\u001b[0m\u001b[1;32m      2\u001b[0m \u001b[0mprint\u001b[0m\u001b[0;34m(\u001b[0m\u001b[0mmodel_yaml\u001b[0m\u001b[0;34m)\u001b[0m\u001b[0;34m\u001b[0m\u001b[0;34m\u001b[0m\u001b[0m\n",
            "\u001b[0;31mAttributeError\u001b[0m: 'Sequential' object has no attribute 'to_yaml'"
          ]
        }
      ]
    },
    {
      "cell_type": "code",
      "source": [
        "print(dir(model))"
      ],
      "metadata": {
        "colab": {
          "base_uri": "https://localhost:8080/"
        },
        "id": "3ngf3DIIYBch",
        "outputId": "a8930fc5-227f-47d2-9dc2-497bf9148ca2"
      },
      "execution_count": 51,
      "outputs": [
        {
          "output_type": "stream",
          "name": "stdout",
          "text": [
            "['__annotations__', '__call__', '__class__', '__delattr__', '__dict__', '__dir__', '__doc__', '__eq__', '__format__', '__ge__', '__getattribute__', '__getstate__', '__gt__', '__hash__', '__init__', '__init_subclass__', '__le__', '__lt__', '__module__', '__ne__', '__new__', '__reduce__', '__reduce_ex__', '__repr__', '__setattr__', '__sizeof__', '__str__', '__subclasshook__', '__weakref__', '_add_trackable_child', '_add_variable_with_custom_getter', '_aggregate_additional_loss', '_allow_non_tensor_positional_args', '_api_export_path', '_api_export_symbol_id', '_assert_compile_called', '_assert_input_compatibility', '_assign_variable_values', '_auto_config', '_build_by_run_for_kwargs', '_build_by_run_for_single_pos_arg', '_build_shapes_dict', '_call_has_mask_arg', '_call_has_training_arg', '_call_signature', '_called', '_check_quantize_args', '_check_super_called', '_checkpoint_adapter', '_checkpoint_dependencies', '_clear_losses', '_compile_config', '_compile_loss', '_compile_metrics', '_compiled_metrics_update_state', '_compute_loss', '_compute_loss_has_training_arg', '_convert_input_args', '_copy_trackable_to_cpu', '_create_nested_dict', '_default_save_signature', '_deferred_dependencies', '_delete_tracking', '_deserialization_dependencies', '_deserialize_from_proto', '_distribute_strategy', '_dtype_policy', '_export_to_saved_model_graph', '_flatten_layers', '_flatten_metrics_in_order', '_flatten_nested_dict', '_float8_call', '_functional', '_gather_saveables_for_checkpoint', '_get_call_context', '_get_metrics_result_or_logs', '_get_node_attribute_at_index', '_get_own_losses', '_get_own_metrics', '_get_regularization_losses', '_get_variable_map', '_handle_deferred_dependencies', '_inbound_nodes', '_initial_epoch', '_initialize_tracker', '_input_spec', '_int8_call', '_is_layer_name_unique', '_jit_compile', '_layers', '_lock', '_lock_state', '_lookup_dependency', '_loss_ids', '_loss_tracker', '_losses', '_losses_override', '_make_function', '_maybe_build', '_maybe_initialize_trackable', '_maybe_rebuild', '_maybe_reset_call_context', '_maybe_symbolic_build', '_metrics', '_name_based_attribute_restore', '_name_based_restores', '_no_dependency', '_non_trainable_variables', '_not_implemented_error', '_obj_type', '_object_identifier', '_open_name_scope', '_outbound_nodes', '_parent_path', '_path', '_post_build', '_post_track_variable', '_post_untrack_variable', '_preload_simple_restoration', '_quantization_mode_error', '_resolve_auto_jit_compile', '_restore_from_tensors', '_run_eagerly', '_saved_model_arg_spec', '_saved_model_inputs_spec', '_seed_generators', '_self_name_based_restores', '_self_saveable_object_factories', '_self_setattr_tracking', '_self_unconditional_checkpoint_dependencies', '_self_unconditional_deferred_dependencies', '_self_unconditional_dependency_names', '_self_update_uid', '_serialize_to_proto', '_serialize_to_tensors', '_set_mask_metadata', '_set_save_spec', '_setattr_hook', '_setattr_tracking', '_should_eval', '_supports_masking', '_symbolic_build', '_tf_api_names', '_tf_api_names_v1', '_track_trackable', '_track_variable', '_trackable_children', '_tracked', '_tracker', '_trainable', '_trainable_variables', '_unconditional_checkpoint_dependencies', '_unconditional_dependency_names', '_unpickle_model', '_untrack_variable', '_update_uid', 'activity_regularizer', 'add', 'add_loss', 'add_metric', 'add_variable', 'add_weight', 'autocast', 'build', 'build_from_config', 'built', 'call', 'compile', 'compile_from_config', 'compiled', 'compiled_loss', 'compiled_metrics', 'compute_dtype', 'compute_loss', 'compute_mask', 'compute_metrics', 'compute_output_shape', 'compute_output_spec', 'count_params', 'distribute_reduction_method', 'distribute_strategy', 'dtype', 'dtype_policy', 'evaluate', 'export', 'fit', 'from_config', 'get_build_config', 'get_compile_config', 'get_config', 'get_layer', 'get_metrics_result', 'get_state_tree', 'get_weights', 'history', 'input', 'input_dtype', 'input_shape', 'input_spec', 'inputs', 'jit_compile', 'layers', 'load_own_variables', 'load_weights', 'loss', 'losses', 'make_predict_function', 'make_test_function', 'make_train_function', 'metrics', 'metrics_names', 'metrics_variables', 'name', 'non_trainable_variables', 'non_trainable_weights', 'optimizer', 'output', 'output_shape', 'outputs', 'path', 'pop', 'predict', 'predict_function', 'predict_on_batch', 'predict_step', 'quantization_mode', 'quantize', 'quantized_build', 'quantized_call', 'reset_metrics', 'run_eagerly', 'save', 'save_own_variables', 'save_weights', 'set_state_tree', 'set_weights', 'stateless_call', 'stateless_compute_loss', 'steps_per_execution', 'stop_evaluating', 'stop_training', 'summary', 'supports_jit', 'supports_masking', 'symbolic_call', 'test_function', 'test_on_batch', 'test_step', 'to_json', 'train_function', 'train_on_batch', 'train_step', 'trainable', 'trainable_variables', 'trainable_weights', 'unrolled_steps_per_execution', 'variable_dtype', 'variables', 'weights']\n"
          ]
        }
      ]
    },
    {
      "cell_type": "code",
      "source": [
        "dense_layer = model.layers[1]\n",
        "dense_layer"
      ],
      "metadata": {
        "colab": {
          "base_uri": "https://localhost:8080/"
        },
        "id": "fIMgFvrXVmAR",
        "outputId": "ded9c622-c16a-499c-906b-f7fce7725b9d"
      },
      "execution_count": 53,
      "outputs": [
        {
          "output_type": "execute_result",
          "data": {
            "text/plain": [
              "<Dense name=dense_4, built=True>"
            ]
          },
          "metadata": {},
          "execution_count": 53
        }
      ]
    },
    {
      "cell_type": "code",
      "source": [
        "dense_layer.input"
      ],
      "metadata": {
        "colab": {
          "base_uri": "https://localhost:8080/"
        },
        "id": "MF6YbNoEYNqX",
        "outputId": "78612dd9-fb52-4346-9637-06f1a434d2f9"
      },
      "execution_count": 55,
      "outputs": [
        {
          "output_type": "execute_result",
          "data": {
            "text/plain": [
              "<KerasTensor shape=(None, 784), dtype=float32, sparse=False, name=keras_tensor_24>"
            ]
          },
          "metadata": {},
          "execution_count": 55
        }
      ]
    },
    {
      "cell_type": "code",
      "source": [
        "dense_layer.output.shape"
      ],
      "metadata": {
        "colab": {
          "base_uri": "https://localhost:8080/"
        },
        "id": "XMUuoyn1YYJH",
        "outputId": "4bbedc56-7830-4b91-d355-5ff57856f35d"
      },
      "execution_count": 57,
      "outputs": [
        {
          "output_type": "execute_result",
          "data": {
            "text/plain": [
              "(None, 128)"
            ]
          },
          "metadata": {},
          "execution_count": 57
        }
      ]
    },
    {
      "cell_type": "code",
      "source": [
        "dense_layer.trainable  # jesli dana warstwa jest wskazana do uczenia sie lub nie"
      ],
      "metadata": {
        "colab": {
          "base_uri": "https://localhost:8080/"
        },
        "id": "BhBb4vikYhEV",
        "outputId": "cc031f93-e1f7-404f-abe2-da2e4dfc475c"
      },
      "execution_count": 58,
      "outputs": [
        {
          "output_type": "execute_result",
          "data": {
            "text/plain": [
              "True"
            ]
          },
          "metadata": {},
          "execution_count": 58
        }
      ]
    },
    {
      "cell_type": "markdown",
      "source": [
        "## Podstawowe rodzaje warstw\n",
        "1. Dense - warstwa gęsto połączona, wynik operacji\n",
        "2. Activation - stosuje funkcję aktywacji\n",
        "3. Dropout - porzuca wskazaną część neuronów w warstwie\n",
        "4. Flatten - wypłaszcza dane wejściowe\n",
        "5. Input - warstwa wejściowa, parametr shape określa rozmiar danych wejściowych"
      ],
      "metadata": {
        "id": "Djm_8Mvzaa8J"
      }
    },
    {
      "cell_type": "code",
      "source": [],
      "metadata": {
        "id": "jF0sE6hIaVld"
      },
      "execution_count": null,
      "outputs": []
    }
  ]
}